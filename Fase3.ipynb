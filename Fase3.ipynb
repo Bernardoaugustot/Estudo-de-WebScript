{
 "cells": [
  {
   "attachments": {},
   "cell_type": "markdown",
   "metadata": {},
   "source": [
    "# Fase 3: Rastreador de Preços: \n",
    "Desenvolva um programa que monitora os preços de produtos em sites de comércio eletrônico e gera alertas quando os preços caem abaixo de um determinado valor ou quando há promoções especiais."
   ]
  },
  {
   "attachments": {},
   "cell_type": "markdown",
   "metadata": {},
   "source": [
    "Vai ser um pouco mais complexo que a s fazes anteriores, quero manter registro de valores passados e valores atuais assim como uma meta do valor demandado.\n",
    "Metodo: \n",
    "\n",
    "• Precisamos salvar Valor Desejado, passado e Atual. um input, o nome do produto a ser procurado, valor desejado.\n",
    "\n",
    "• Acessar multiplos sites, salvar seus links para acesso, salvar os links em uma variavel matrix somente salvar o melhor em um arquivo fixo.\n",
    "Bonus: Ter uma interface Grafica."
   ]
  },
  {
   "cell_type": "code",
   "execution_count": 4,
   "metadata": {},
   "outputs": [],
   "source": [
    "from selenium import webdriver\n",
    "from selenium.webdriver.common.by import By\n",
    "from selenium.webdriver.common.keys import Keys\n",
    "import json\n",
    "\n",
    "\n"
   ]
  },
  {
   "cell_type": "code",
   "execution_count": 5,
   "metadata": {},
   "outputs": [
    {
     "name": "stderr",
     "output_type": "stream",
     "text": [
      "C:\\Users\\berna\\AppData\\Local\\Temp\\ipykernel_13672\\3173517515.py:1: DeprecationWarning: executable_path has been deprecated, please pass in a Service object\n",
      "  driver = webdriver.Chrome(executable_path= './ignore/chromedriver.exe')\n"
     ]
    }
   ],
   "source": [
    "driver = webdriver.Chrome(executable_path= './ignore/chromedriver.exe')\n",
    "# Na url edita o que sera o alvo, enquanto com o get vamos abrir o site.\n",
    "url = 'https://www.google.com.br/?hl=pt-BR'\n"
   ]
  },
  {
   "cell_type": "code",
   "execution_count": 6,
   "metadata": {},
   "outputs": [],
   "source": [
    "# Aqui abrimos o arquivo de Log onde vamos salvar os nossos dados principais.\n",
    "    # vamos começar com apenas 1 produto sendo salvo por vez.\n",
    "with open(\"logFase3.txt\", \"r\") as arquivo:\n",
    "    lines = arquivo.readlines()\n",
    "#Usamos tbm o save de Arquivo para escrever nele.\n",
    "#  lembrando que Lines esta salvo em execução então pode desatualizar, vamos ter que chamr de novo quando iniciarmos os trabalhos.\n",
    "\n",
    "arquivo = open(\"logFase3.txt\", 'w')\n",
    "\n"
   ]
  },
  {
   "cell_type": "code",
   "execution_count": 7,
   "metadata": {},
   "outputs": [
    {
     "data": {
      "text/plain": [
       "'import PySimpleGUI as sg\\n\\n\\nlayout = [\\n    [sg.Text(\"O que você deseja comprar?\")],\\n    [sg.InputText(key=\\'-ITEM-\\')],\\n    [sg.Button(\\'Comprar\\'), sg.Button(\\'Cancelar\\')],\\n    [sg.Text(size=(40, 1), key=\\'-RESPOSTA-\\')]\\n]\\n\\nwindow = sg.Window(\\'Interface de Compra\\', layout)\\n\\nwhile True:\\n    event, values = window.read()\\n    if event == sg.WINDOW_CLOSED or event == \\'Cancelar\\':\\n        break\\n    elif event == \\'Comprar\\':\\n        item = values[\\'-ITEM-\\']\\n        window[\\'-RESPOSTA-\\'].update(f\"Você quer comprar: {item}\")\\n\\nwindow.close()\\n'"
      ]
     },
     "execution_count": 7,
     "metadata": {},
     "output_type": "execute_result"
    }
   ],
   "source": [
    "#Para usar uma interface grafica todas nossas funções devem passar a serem metodos que serem chamados, vamos deixar isso para a fase 4.\n",
    "'''import PySimpleGUI as sg\n",
    "\n",
    "\n",
    "layout = [\n",
    "    [sg.Text(\"O que você deseja comprar?\")],\n",
    "    [sg.InputText(key='-ITEM-')],\n",
    "    [sg.Button('Comprar'), sg.Button('Cancelar')],\n",
    "    [sg.Text(size=(40, 1), key='-RESPOSTA-')]\n",
    "]\n",
    "\n",
    "window = sg.Window('Interface de Compra', layout)\n",
    "\n",
    "while True:\n",
    "    event, values = window.read()\n",
    "    if event == sg.WINDOW_CLOSED or event == 'Cancelar':\n",
    "        break\n",
    "    elif event == 'Comprar':\n",
    "        item = values['-ITEM-']\n",
    "        window['-RESPOSTA-'].update(f\"Você quer comprar: {item}\")\n",
    "\n",
    "window.close()\n",
    "'''"
   ]
  },
  {
   "cell_type": "code",
   "execution_count": 8,
   "metadata": {},
   "outputs": [
    {
     "name": "stdout",
     "output_type": "stream",
     "text": [
      "Qual o produto quer comprar?\n",
      "celular \n"
     ]
    }
   ],
   "source": [
    "# Iniciando\n",
    "print(\"Qual o produto quer comprar?\")\n",
    "produto = \"celular \"  #input()\n",
    "print(produto)\n",
    "# lista de todos os produtos encontrados.\n",
    "listaX = []\n"
   ]
  },
  {
   "cell_type": "markdown",
   "metadata": {},
   "source": [
    "Raspando os Preços: Magalu\n"
   ]
  },
  {
   "cell_type": "code",
   "execution_count": 9,
   "metadata": {},
   "outputs": [],
   "source": [
    "#Começando pelos patronicados do Google.\n",
    "driver.get(url)\n",
    "driver.find_element(By.XPATH, '/html/body/div[1]/div[3]/form/div[1]/div[1]/div[1]/div/div[2]/textarea').send_keys(produto + Keys.ENTER)"
   ]
  },
  {
   "cell_type": "code",
   "execution_count": 10,
   "metadata": {},
   "outputs": [
    {
     "name": "stdout",
     "output_type": "stream",
     "text": [
      "Google is Fail\n"
     ]
    }
   ],
   "source": [
    "x = 1\n",
    "# HTML é o xpath da lista onde estão os produtos analizados\n",
    "html = '/html/body/div[6]/div/div[13]/div/div/div/div/div[2]/div/g-scrolling-carousel/div[1]/div/div/div'\n",
    "while True:\n",
    "    try:\n",
    "        listaInterna = []\n",
    "        #Coletando os valores da pagina\n",
    "        try:\n",
    "            nome = driver.find_element(By.XPATH,html +'/div[{}]/div[1]/div[3]/div[1]/div[1]/a[2]/span'.format(x)).text\n",
    "            link = driver.find_element(By.XPATH,html +'/div[{}]/a[2]'.format(x)).get_attribute('href')\n",
    "            price = driver.find_element(By.XPATH, html +'/div[{}]/div[1]/div[3]/div[1]/div[2]/span'.format(x)).text\n",
    "        except:\n",
    "            nome = driver.find_element(By.XPATH,html +'/div[{}]/div[1]/div[3]/div[1]/div[1]/span/a[2]/span'.format(x)).text\n",
    "            link = driver.find_element(By.XPATH,html +'/div[{}]/span/a[2]'.format(x)).get_attribute('href')\n",
    "            price = driver.find_element(By.XPATH, html +'/div[{}]/div[1]/div[3]/div[1]/div[2]/span'.format(x)).text  \n",
    "        #montando a lista\n",
    "        listaInterna.append(nome)\n",
    "        listaInterna.append(price)\n",
    "        listaInterna.append(link)\n",
    "        listaX.append(listaInterna) \n",
    "        print('Tudo Ok')\n",
    "        x = x+ 1       \n",
    "    except:\n",
    "        if x ==1: print(\"Google is Fail\")\n",
    "        break\n"
   ]
  },
  {
   "cell_type": "markdown",
   "metadata": {},
   "source": [
    "Raspando os Preços: Magazine luiza\n"
   ]
  },
  {
   "cell_type": "code",
   "execution_count": 11,
   "metadata": {},
   "outputs": [],
   "source": [
    "# Entrando no catalogo da magalu\n",
    "url = 'https://www.magazineluiza.com.br/busca/{}/'.format(produto)\n",
    "driver.get(url)"
   ]
  },
  {
   "cell_type": "code",
   "execution_count": 23,
   "metadata": {},
   "outputs": [
    {
     "name": "stdout",
     "output_type": "stream",
     "text": [
      "1\n",
      "Smartphone Samsung Galaxy S22+ 256GB Rosé 5GB 8GB\n",
      "https://www.magazineluiza.com.br/smartphone-samsung-galaxy-s22-256gb-rose-5gb-8gb/p/234440200/te/gs22/\n",
      "R$ 4.679,10\n",
      "Tudo Ok\n",
      "2\n",
      "Smartphone Motorola Moto G22 128GB Azul 4G\n",
      "https://www.magazineluiza.com.br/smartphone-motorola-moto-g22-128gb-azul-4g/p/234607100/te/mg22/\n",
      "R$ 989,10\n",
      "Tudo Ok\n",
      "3\n",
      "iPhone 11 Apple 64GB Preto 6,1” 12MP iOS\n",
      "https://www.magazineluiza.com.br/iphone-11-apple-64gb-preto-61-12mp-ios/p/155610500/te/ip11/\n",
      "R$ 2.789,10\n",
      "Tudo Ok\n",
      "4\n",
      "iPhone 11 Apple 64GB Branco 6,1” 12MP iOS\n",
      "https://www.magazineluiza.com.br/iphone-11-apple-64gb-branco-61-12mp-ios/p/155614100/te/ip11/\n",
      "R$ 2.879,10\n",
      "Tudo Ok\n",
      "5\n",
      "Apple iPhone 13 128GB Meia-noite Tela 6,1” 12MP\n",
      "https://www.magazineluiza.com.br/apple-iphone-13-128gb-meia-noite-tela-61-12mp/p/234661800/te/ip13/\n",
      "R$ 4.298,99\n",
      "Tudo Ok\n",
      "6\n",
      "Smartphone Samsung Galaxy S20 FE 5G 128GB Branco Octa-Core 6GB RAM 6,5” Câm. Tripla + Selfie 32MP\n",
      "https://www.magazineluiza.com.br/smartphone-samsung-galaxy-s20-fe-5g-128gb-branco-octa-core-6gb-ram-65-cam-tripla-selfie-32mp/p/234880800/te/gs2f/\n",
      "R$ 2.069,10\n",
      "Tudo Ok\n",
      "7\n",
      "Smartphone Motorola Moto G22 128GB Preto 4G\n",
      "https://www.magazineluiza.com.br/smartphone-motorola-moto-g22-128gb-preto-4g/p/234607000/te/mg22/\n",
      "R$ 989,10\n",
      "Tudo Ok\n",
      "8\n",
      "Apple iPhone 13 128GB Estelar Tela 6,1” 12MP\n",
      "https://www.magazineluiza.com.br/apple-iphone-13-128gb-estelar-tela-61-12mp/p/234661900/te/ip13/\n",
      "R$ 4.298,99\n",
      "Tudo Ok\n",
      "9\n",
      "Celular Positivo P26 Dual Chip 32MB 2G Rádio FM - Bluetooth Desbloqueado\n",
      "https://www.magazineluiza.com.br/celular-positivo-p26-dual-chip-32mb-2g-radio-fm-bluetooth-desbloqueado/p/227724100/te/ceba/\n",
      "R$ 89,10\n",
      "Tudo Ok\n",
      "10\n",
      "Smartphone Samsung Galaxy A14 128GB Verde Lima 5G Octa-Core 4GB RAM 6,6\" Câm. Tripla + Selfie 13MP\n",
      "https://www.magazineluiza.com.br/smartphone-samsung-galaxy-a14-128gb-verde-lima-5g-octa-core-4gb-ram-66-cam-tripla-selfie-13mp/p/236592100/te/ga14/\n",
      "R$ 1.124,10\n",
      "Tudo Ok\n"
     ]
    }
   ],
   "source": [
    "#Raspando os elementos\n",
    "linha = 1\n",
    "x = 1\n",
    "# Na magalu os produtos estão em uma lista catalogo grande tentar pegar as multiplas linhas\n",
    "# HTML é o xpath da lista onde estão os produtos analizados\n",
    "html = '/html/body/div[1]/div/main/section[4]/div[3]/div/ul/'\n",
    "#/html/body/div[1]/div/main/section[4]/div[3]/div/ul/li[1]/a/div[3]/div[1]/div/p[1]\n",
    "#/html/body/div[1]/div/main/section[4]/div[3]/div/ul/li[2]/a/div[3]/div[1]/div/p[2]\n",
    "#/html/body/div[1]/div/main/section[4]/div[3]/div/ul/li[1]/a/div[3]/h2\n",
    "#/html/body/div[1]/div/main/section[4]/div[3]/div/ul/li[2]/a/div[3]/h2\n",
    "#/html/body/div[1]/div/main/section[4]/div[3]/div/ul/li[1]/a/div[3]/div[2]/div/p[2]\n",
    "#/html/body/div[1]/div/main/section[4]/div[3]/div/ul/li[1]/a/div[3]/div[2]/div/p[2]\n",
    "#/html/body/div[1]/div/main/section[4]/div[3]/div/ul/li[3]/a/div[3]/div[2]/div/p[2]\n",
    "#price = driver.find_element(By.XPATH, html +'li[{}]/a/div[3]/div[2]/div/p[2]'.format(linha)).text\n",
    "\n",
    "while True:\n",
    "    try:\n",
    "        listaInterna = []\n",
    "        #Coletando os valores da pagina\n",
    "        #print(linha)\n",
    "        nome = driver.find_element(By.XPATH,html +'li[{}]/a/div[3]/h2'.format(linha)).text\n",
    "        #print(nome)\n",
    "        link = driver.find_element(By.XPATH,html +'li[{}]/a'.format(linha)).get_attribute('href')\n",
    "        #print(link)\n",
    "        price = driver.find_element(By.XPATH, html +'li[{}]/a/div[3]/div[2]/div/p[2]'.format(linha)).text\n",
    "        #print(price)\n",
    "        listaInterna.append(nome)\n",
    "        listaInterna.append(price)\n",
    "        listaInterna.append(link)\n",
    "        listaX.append(listaInterna) \n",
    "        print('Tudo Ok')\n",
    "        if linha == 10: break\n",
    "        linha = linha + 1       \n",
    "    except:\n",
    "        if linha == 1: print(\"Magualu is Fail\")\n",
    "        break\n",
    "    \n",
    "        "
   ]
  },
  {
   "cell_type": "markdown",
   "metadata": {},
   "source": [
    "Limpando os dados"
   ]
  },
  {
   "cell_type": "code",
   "execution_count": 24,
   "metadata": {},
   "outputs": [],
   "source": [
    "#Convertendo Price to float\n",
    "y = 0\n",
    "for x in listaX:\n",
    "    limpeza = x[1][3:].replace('.','')\n",
    "    listaX[y][1] = float(limpeza.replace(',','.'))\n",
    "    y += 1"
   ]
  },
  {
   "cell_type": "code",
   "execution_count": 25,
   "metadata": {},
   "outputs": [],
   "source": [
    "\n",
    "lista = ['Smartphone Samsung Galaxy A04e 64GB Azul 4G Octa-Core 3GB RAM 6,5 Câm.', 669.0, 'link']\n",
    "\n",
    "json_data = json.dumps(lista)\n",
    "# Salvar em um arquivo\n",
    "with open('lista.json', 'w') as file:\n",
    "    file.write(json_data)\n",
    "file.close()\n",
    "\n"
   ]
  },
  {
   "cell_type": "code",
   "execution_count": 26,
   "metadata": {},
   "outputs": [
    {
     "name": "stdout",
     "output_type": "stream",
     "text": [
      "['Celular Positivo P26 Dual Chip 32MB 2G Rádio FM - Bluetooth Desbloqueado', 89.1, 'https://www.magazineluiza.com.br/celular-positivo-p26-dual-chip-32mb-2g-radio-fm-bluetooth-desbloqueado/p/227724100/te/ceba/']\n"
     ]
    }
   ],
   "source": [
    "# Menor preço\n",
    "menor = listaX[0]\n",
    "\n",
    "for x in listaX:\n",
    "    if x[1] < menor[1]:\n",
    "        menor = x\n",
    "print(menor)\n",
    "\n",
    "json_data = json.dumps(menor)\n",
    "# Salvar em um arquivo\n",
    "with open('lista.json', 'w') as file:\n",
    "    file.write(json_data)\n",
    "\n"
   ]
  },
  {
   "cell_type": "code",
   "execution_count": 27,
   "metadata": {},
   "outputs": [
    {
     "name": "stdout",
     "output_type": "stream",
     "text": [
      "['Celular Positivo P26 Dual Chip 32MB 2G Rádio FM - Bluetooth Desbloqueado', 89.1, 'https://www.magazineluiza.com.br/celular-positivo-p26-dual-chip-32mb-2g-radio-fm-bluetooth-desbloqueado/p/227724100/te/ceba/']\n"
     ]
    }
   ],
   "source": [
    "\n",
    "# Carregar o conteúdo do arquivo JSON\n",
    "with open('lista.json', 'r') as file:\n",
    "    json_data = file.read()\n",
    "# Converter o conteúdo JSON em uma lista\n",
    "lista = json.loads(json_data)\n",
    "print(lista)\n"
   ]
  }
 ],
 "metadata": {
  "kernelspec": {
   "display_name": "Python 3",
   "language": "python",
   "name": "python3"
  },
  "language_info": {
   "codemirror_mode": {
    "name": "ipython",
    "version": 3
   },
   "file_extension": ".py",
   "mimetype": "text/x-python",
   "name": "python",
   "nbconvert_exporter": "python",
   "pygments_lexer": "ipython3",
   "version": "3.10.7"
  },
  "orig_nbformat": 4
 },
 "nbformat": 4,
 "nbformat_minor": 2
}
