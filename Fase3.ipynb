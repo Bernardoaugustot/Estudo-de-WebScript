{
 "cells": [
  {
   "attachments": {},
   "cell_type": "markdown",
   "metadata": {},
   "source": [
    "# Fase 3: Rastreador de Preços: \n",
    "Desenvolva um programa que monitora os preços de produtos em sites de comércio eletrônico e gera alertas quando os preços caem abaixo de um determinado valor ou quando há promoções especiais."
   ]
  },
  {
   "attachments": {},
   "cell_type": "markdown",
   "metadata": {},
   "source": [
    "Vai ser um pouco mais complexo que a s fazes anteriores, quero manter registro de valores passados e valores atuais assim como uma meta do valor demandado.\n",
    "Metodo: \n",
    "\n",
    "• Precisamos salvar Valor Desejado, passado e Atual. um input, o nome do produto a ser procurado, valor desejado.\n",
    "\n",
    "• Acessar multiplos sites, salvar seus links para acesso, salvar os links em uma variavel matrix somente salvar o melhor em um arquivo fixo.\n",
    "Bonus: Ter uma interface Grafica."
   ]
  },
  {
   "cell_type": "code",
   "execution_count": 50,
   "metadata": {},
   "outputs": [],
   "source": [
    "from selenium import webdriver\n",
    "from selenium.webdriver.common.by import By\n",
    "from selenium.webdriver.common.keys import Keys\n",
    "import json\n",
    "import datetime\n",
    "\n",
    "\n"
   ]
  },
  {
   "cell_type": "code",
   "execution_count": 51,
   "metadata": {},
   "outputs": [
    {
     "name": "stderr",
     "output_type": "stream",
     "text": [
      "C:\\Users\\berna\\AppData\\Local\\Temp\\ipykernel_16812\\3173517515.py:1: DeprecationWarning: executable_path has been deprecated, please pass in a Service object\n",
      "  driver = webdriver.Chrome(executable_path= './ignore/chromedriver.exe')\n"
     ]
    }
   ],
   "source": [
    "driver = webdriver.Chrome(executable_path= './ignore/chromedriver.exe')\n",
    "# Na url edita o que sera o alvo, enquanto com o get vamos abrir o site.\n",
    "url = 'https://www.google.com.br/?hl=pt-BR'\n"
   ]
  },
  {
   "cell_type": "code",
   "execution_count": 52,
   "metadata": {},
   "outputs": [],
   "source": [
    "# Aqui abrimos o arquivo de Log onde vamos salvar os nossos dados principais.\n",
    "    # vamos começar com apenas 1 produto sendo salvo por vez.\n",
    "with open(\"logFase3.txt\", \"r\") as arquivo:\n",
    "    lines = arquivo.readlines()\n",
    "#Usamos tbm o save de Arquivo para escrever nele.\n",
    "#  lembrando que Lines esta salvo em execução então pode desatualizar, vamos ter que chamr de novo quando iniciarmos os trabalhos.\n",
    "\n",
    "arquivo = open(\"logFase3.txt\", 'w')\n",
    "\n"
   ]
  },
  {
   "cell_type": "code",
   "execution_count": 54,
   "metadata": {},
   "outputs": [
    {
     "name": "stdout",
     "output_type": "stream",
     "text": [
      "Qual o produto quer comprar?\n",
      "celular \n"
     ]
    }
   ],
   "source": [
    "# Iniciando\n",
    "print(\"Qual o produto quer comprar?\")\n",
    "produto = \"celular \"  #input()\n",
    "print(produto)\n",
    "# lista de todos os produtos encontrados.\n",
    "listaX = []\n"
   ]
  },
  {
   "cell_type": "markdown",
   "metadata": {},
   "source": [
    "Raspando os Preços: Magalu\n"
   ]
  },
  {
   "cell_type": "code",
   "execution_count": 55,
   "metadata": {},
   "outputs": [],
   "source": [
    "#Começando pelos patronicados do Google.\n",
    "driver.get(url)\n",
    "driver.find_element(By.XPATH, '/html/body/div[1]/div[3]/form/div[1]/div[1]/div[1]/div/div[2]/textarea').send_keys(produto + Keys.ENTER)"
   ]
  },
  {
   "cell_type": "code",
   "execution_count": 56,
   "metadata": {},
   "outputs": [
    {
     "name": "stdout",
     "output_type": "stream",
     "text": [
      "Tudo Ok\n",
      "Tudo Ok\n",
      "Tudo Ok\n",
      "Tudo Ok\n"
     ]
    }
   ],
   "source": [
    "x = 1\n",
    "# HTML é o xpath da lista onde estão os produtos analizados\n",
    "html = '/html/body/div[6]/div/div[13]/div/div/div/div/div[2]/div/g-scrolling-carousel/div[1]/div/div/div'\n",
    "while True:\n",
    "    try:\n",
    "        listaInterna = []\n",
    "        #Coletando os valores da pagina\n",
    "        try:\n",
    "            nome = driver.find_element(By.XPATH,html +'/div[{}]/div[1]/div[3]/div[1]/div[1]/a[2]/span'.format(x)).text\n",
    "            link = driver.find_element(By.XPATH,html +'/div[{}]/a[2]'.format(x)).get_attribute('href')\n",
    "            price = driver.find_element(By.XPATH, html +'/div[{}]/div[1]/div[3]/div[1]/div[2]/span'.format(x)).text\n",
    "        except:\n",
    "            nome = driver.find_element(By.XPATH,html +'/div[{}]/div[1]/div[3]/div[1]/div[1]/span/a[2]/span'.format(x)).text\n",
    "            link = driver.find_element(By.XPATH,html +'/div[{}]/span/a[2]'.format(x)).get_attribute('href')\n",
    "            price = driver.find_element(By.XPATH, html +'/div[{}]/div[1]/div[3]/div[1]/div[2]/span'.format(x)).text  \n",
    "        #montando a lista\n",
    "        listaInterna.append(nome)\n",
    "        listaInterna.append(price)\n",
    "        listaInterna.append(link)\n",
    "        listaX.append(listaInterna) \n",
    "        print('Tudo Ok')\n",
    "        x = x+ 1       \n",
    "    except:\n",
    "        if x ==1: print(\"Google is Fail\")\n",
    "        break\n"
   ]
  },
  {
   "cell_type": "markdown",
   "metadata": {},
   "source": [
    "Raspando os Preços: Magazine luiza\n"
   ]
  },
  {
   "cell_type": "code",
   "execution_count": 57,
   "metadata": {},
   "outputs": [
    {
     "name": "stdout",
     "output_type": "stream",
     "text": [
      "Magualu is Fail\n"
     ]
    }
   ],
   "source": [
    "# Entrando no catalogo da magalu\n",
    "url = 'https://www.magazineluiza.com.br/busca/{}/'.format(produto)\n",
    "driver.get(url)\n",
    "#Raspando os elementos\n",
    "linha = 1\n",
    "html = '/html/body/div[1]/div/main/section[4]/div[3]/div/ul/'\n",
    "\n",
    "while True:\n",
    "    try:\n",
    "        listaInterna = []\n",
    "        #Coletando os valores da pagina\n",
    "        #/html/body/div[1]/div/main/section[4]/div[3]/div/ul/li[1]/a/div[3]/div[2]/div/div/p\n",
    "        #print(linha)\n",
    "        nome = driver.find_element(By.XPATH,html +'li[{}]/a/div[3]/h2'.format(linha)).text\n",
    "        #print(nome)\n",
    "        link = driver.find_element(By.XPATH,html +'li[{}]/a'.format(linha)).get_attribute('href')\n",
    "        #print(link)\n",
    "        price = driver.find_element(By.XPATH, html +'li[{}]/a/div[3]/div[2]/div/div/p'.format(linha)).text\n",
    "        #print(price)\n",
    "        listaInterna.append(nome)\n",
    "        listaInterna.append(price)\n",
    "        listaInterna.append(link)\n",
    "        listaX.append(listaInterna) \n",
    "        print('Tudo Ok')\n",
    "        if linha == 10: break\n",
    "        linha = linha + 1       \n",
    "    except:\n",
    "        if linha == 1: print(\"Magualu is Fail\")\n",
    "        break\n",
    "    \n",
    "        "
   ]
  },
  {
   "cell_type": "markdown",
   "metadata": {},
   "source": [
    "Limpando os dados"
   ]
  },
  {
   "cell_type": "code",
   "execution_count": 58,
   "metadata": {},
   "outputs": [],
   "source": [
    "#Convertendo Price to float\n",
    "y = 0\n",
    "for x in listaX:\n",
    "    limpeza = x[1][3:].replace('.','')\n",
    "    listaX[y][1] = float(limpeza.replace(',','.'))\n",
    "    y += 1"
   ]
  },
  {
   "cell_type": "code",
   "execution_count": 59,
   "metadata": {},
   "outputs": [],
   "source": [
    "# Menor preço\n",
    "menor = listaX[0]\n",
    "\n",
    "for x in listaX:\n",
    "    if x[1] < menor[1]:\n",
    "        menor = x\n",
    "\n",
    "#Adições finais\n",
    "menor.append(datetime.datetime.now().strftime(\"%d/%m/%Y\"))"
   ]
  },
  {
   "cell_type": "markdown",
   "metadata": {},
   "source": [
    "# Trabalhando com Json - fase4?\n",
    "Vamos salvar em Json para tentar salvar varios preços de produtos diferentes.\n",
    "para ficar assim, Exemplo:\n",
    "\n",
    "para pegar o melhor celular vamos ter que fazer uma varedura igual fizemos para pegar o melhor celular de hoje."
   ]
  },
  {
   "cell_type": "code",
   "execution_count": null,
   "metadata": {},
   "outputs": [],
   "source": [
    "''' \n",
    "{\n",
    "Celular:[\n",
    "    lista1,\n",
    "    lista2,\n",
    "    lista3\n",
    "    ]\n",
    "carro:[\n",
    "    lista1,\n",
    "    lista2\n",
    "    ]\n",
    "}\n",
    "\n",
    "'''"
   ]
  },
  {
   "cell_type": "code",
   "execution_count": 66,
   "metadata": {},
   "outputs": [],
   "source": [
    "novo_objeto = json.dumps(menor)\n",
    "\n",
    "with open('logFase3.json', 'w') as file:\n",
    "    #dados.append(novo_objeto)\n",
    "    json.dump(menor, file, indent=4)\n",
    "\n",
    "    \n"
   ]
  },
  {
   "cell_type": "code",
   "execution_count": 68,
   "metadata": {},
   "outputs": [],
   "source": [
    "novo_objeto = json.dumps(menor)\n",
    "\n",
    "# Salvar em um arquivo\n",
    "with open('lista.json', 'r') as arquivo:\n",
    "    dados = json.load(arquivo)\n",
    "\n",
    "\n",
    "with open('lista.json', 'w') as file:\n",
    "    dados.append(novo_objeto) # forma errada\n",
    "    json.dump(dados, file, indent=4)"
   ]
  }
 ],
 "metadata": {
  "kernelspec": {
   "display_name": "Python 3",
   "language": "python",
   "name": "python3"
  },
  "language_info": {
   "codemirror_mode": {
    "name": "ipython",
    "version": 3
   },
   "file_extension": ".py",
   "mimetype": "text/x-python",
   "name": "python",
   "nbconvert_exporter": "python",
   "pygments_lexer": "ipython3",
   "version": "3.10.7"
  },
  "orig_nbformat": 4
 },
 "nbformat": 4,
 "nbformat_minor": 2
}
