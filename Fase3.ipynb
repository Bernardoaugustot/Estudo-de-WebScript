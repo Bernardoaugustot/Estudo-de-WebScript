{
 "cells": [
  {
   "attachments": {},
   "cell_type": "markdown",
   "metadata": {},
   "source": [
    "# Fase 3: Rastreador de Preços: \n",
    "Desenvolva um programa que monitora os preços de produtos em sites de comércio eletrônico e gera alertas quando os preços caem abaixo de um determinado valor ou quando há promoções especiais."
   ]
  },
  {
   "attachments": {},
   "cell_type": "markdown",
   "metadata": {},
   "source": [
    "Vai ser um pouco mais complexo que a s fazes anteriores, quero manter registro de valores passados e valores atuais assim como uma meta do valor demandado.\n",
    "Metodo: \n",
    "• Precisamos salvar Valor Desejado, passado e Atual. um input, o nome do produto a ser procurado, valor desejado.\n",
    "• Acessar multiplos sites, salvar seus links para acesso, salvar os links em uma variavel matrix somente salvar o melhor em um arquivo fixo.\n",
    "Bonus: Ter uma interface Grafica."
   ]
  },
  {
   "cell_type": "code",
   "execution_count": 6,
   "metadata": {},
   "outputs": [],
   "source": [
    "from selenium import webdriver\n",
    "from selenium.webdriver.common.by import By"
   ]
  },
  {
   "cell_type": "code",
   "execution_count": 7,
   "metadata": {},
   "outputs": [
    {
     "name": "stderr",
     "output_type": "stream",
     "text": [
      "C:\\Users\\berna\\AppData\\Local\\Temp\\ipykernel_7068\\3895232095.py:1: DeprecationWarning: executable_path has been deprecated, please pass in a Service object\n",
      "  driver = webdriver.Chrome(executable_path= './ignore/chromedriver.exe')\n"
     ]
    }
   ],
   "source": [
    "driver = webdriver.Chrome(executable_path= './ignore/chromedriver.exe')\n",
    "# Na url edita o que sera o alvo, enquanto com o get vamos abrir o site.\n",
    "url = 'https://g1.globo.com/'\n",
    "driver.get(url)"
   ]
  },
  {
   "cell_type": "code",
   "execution_count": 9,
   "metadata": {},
   "outputs": [
    {
     "name": "stdout",
     "output_type": "stream",
     "text": [
      "a\n"
     ]
    }
   ],
   "source": [
    "with open(\"arquivo.txt\", \"r\") as arquivo:\n",
    "    linhas = arquivo.readlines()\n",
    "print('a')\n",
    "\n",
    "for linha in linhas:\n",
    "    # Faça algo com cada linha\n",
    "    print('a')\n",
    "    print(linha)\n"
   ]
  }
 ],
 "metadata": {
  "kernelspec": {
   "display_name": "Python 3",
   "language": "python",
   "name": "python3"
  },
  "language_info": {
   "codemirror_mode": {
    "name": "ipython",
    "version": 3
   },
   "file_extension": ".py",
   "mimetype": "text/x-python",
   "name": "python",
   "nbconvert_exporter": "python",
   "pygments_lexer": "ipython3",
   "version": "3.10.7"
  },
  "orig_nbformat": 4
 },
 "nbformat": 4,
 "nbformat_minor": 2
}
