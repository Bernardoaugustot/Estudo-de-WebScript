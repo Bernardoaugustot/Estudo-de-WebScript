{
 "cells": [
  {
   "attachments": {},
   "cell_type": "markdown",
   "metadata": {},
   "source": [
    "# Fase 3: Rastreador de Preços: \n",
    "Desenvolva um programa que monitora os preços de produtos em sites de comércio eletrônico e gera alertas quando os preços caem abaixo de um determinado valor ou quando há promoções especiais."
   ]
  },
  {
   "attachments": {},
   "cell_type": "markdown",
   "metadata": {},
   "source": [
    "Vai ser um pouco mais complexo que a s fazes anteriores, quero manter registro de valores passados e valores atuais assim como uma meta do valor demandado.\n",
    "Metodo: \n",
    "• Precisamos salvar Valor Desejado, passado e Atual. um input, o nome do produto a ser procurado, valor desejado.\n",
    "• Acessar multiplos sites, salvar seus links para acesso, salvar os links em uma variavel matrix somente salvar o melhor em um arquivo fixo.\n",
    "Bonus: Ter uma interface Grafica."
   ]
  },
  {
   "cell_type": "code",
   "execution_count": 43,
   "metadata": {},
   "outputs": [],
   "source": [
    "from selenium import webdriver\n",
    "from selenium.webdriver.common.by import By\n",
    "from selenium.webdriver.common.keys import Keys\n",
    "\n",
    "import re\n",
    "\n"
   ]
  },
  {
   "cell_type": "code",
   "execution_count": 44,
   "metadata": {},
   "outputs": [
    {
     "name": "stderr",
     "output_type": "stream",
     "text": [
      "C:\\Users\\berna\\AppData\\Local\\Temp\\ipykernel_15224\\3173517515.py:1: DeprecationWarning: executable_path has been deprecated, please pass in a Service object\n",
      "  driver = webdriver.Chrome(executable_path= './ignore/chromedriver.exe')\n"
     ]
    }
   ],
   "source": [
    "driver = webdriver.Chrome(executable_path= './ignore/chromedriver.exe')\n",
    "# Na url edita o que sera o alvo, enquanto com o get vamos abrir o site.\n",
    "url = 'https://www.google.com.br/?hl=pt-BR'\n"
   ]
  },
  {
   "cell_type": "code",
   "execution_count": 45,
   "metadata": {},
   "outputs": [],
   "source": [
    "# Aqui abrimos o arquivo de Log onde vamos salvar os nossos dados principais.\n",
    "    # vamos começar com apenas 1 produto sendo salvo por vez.\n",
    "with open(\"logFase3.txt\", \"r\") as arquivo:\n",
    "    lines = arquivo.readlines()\n",
    "#Usamos tbm o save de Arquivo para escrever nele.\n",
    "#  lembrando que Lines esta salvo em execução então pode desatualizar, vamos ter que chamr de novo quando iniciarmos os trabalhos.\n",
    "\n",
    "arquivo = open(\"logFase3.txt\", 'w')\n",
    "\n"
   ]
  },
  {
   "cell_type": "code",
   "execution_count": 46,
   "metadata": {},
   "outputs": [
    {
     "name": "stdout",
     "output_type": "stream",
     "text": [
      "Qual o produto quer comprar?\n",
      "celular \n"
     ]
    }
   ],
   "source": [
    "# Iniciando\n",
    "print(\"Qual o produto quer comprar?\")\n",
    "produto = \"celular \"  #input()\n",
    "print(produto)"
   ]
  },
  {
   "cell_type": "code",
   "execution_count": 47,
   "metadata": {},
   "outputs": [],
   "source": [
    "#Começando pelos patronicados do Google.\n",
    "driver.get(url)\n",
    "driver.find_element(By.XPATH, '/html/body/div[1]/div[3]/form/div[1]/div[1]/div[1]/div/div[2]/textarea').send_keys(produto + Keys.ENTER)"
   ]
  },
  {
   "cell_type": "code",
   "execution_count": 48,
   "metadata": {},
   "outputs": [
    {
     "name": "stdout",
     "output_type": "stream",
     "text": [
      "Smartphone Nokia G21 4G - 128GB 4GB RAM Tela HD+ 6.5“. Dual Chip Câm Tripla 50MP Android 12 - NK083 por R$ 999,00 de ObaBox\n",
      "Smartphone Nokia G21 4G - 128GB 4GB RAM Tela HD+ 6\n",
      "None\n",
      "869,00\n",
      "/html/body/div[6]/div/div[13]/div/div/div/div/div[2]/div/g-scrolling-carousel/div[1]/div/div/div\n",
      "a\n",
      "a\n",
      "a\n"
     ]
    }
   ],
   "source": [
    "#/html/body/div[6]/div/div[13]/div/div/div/div/div[2]/div/g-scrolling-carousel/div[1]/div/div/div/div[1]/div[1]/div[3]/div[1]/div[2]/span\n",
    "#/html/body/div[6]/div/div[13]/div/div/div/div/div[2]/div/g-scrolling-carousel/div[1]/div/div/div/div[2]/div[1]/div[3]/div[1]/div[2]/span\n",
    "x = 1\n",
    "listaX = []\n",
    "\n",
    "\n",
    "\n",
    "bigger = driver.find_element(By.XPATH, \"/html/body/div[6]/div/div[13]/div/div/div/div/div[2]/div/g-scrolling-carousel/div[1]/div/div/div/div[1]/a[2]\")\n",
    "link2 = bigger.get_attribute('href')\n",
    "biggerName = bigger.get_attribute('aria-label')\n",
    "print(biggerName)\n",
    "name2 = biggerName[:50]\n",
    "print(name2)\n",
    "padrao = r\"por R\\$ (\\d+,\\d{2})\"\n",
    "resultado = re.search(padrao, biggerName)\n",
    "print(resultado)\n",
    "#valor = resultado.group(1)\n",
    "print(valor)\n",
    "\n",
    "while True:\n",
    "    try:\n",
    "            #  /html/body/div[6]/div/div[13]/div/div/div/div/div[2]/div/g-scrolling-carousel/div[1]/div/div/div/div[1]/a[2]\n",
    "        html = '/html/body/div[6]/div/div[13]/div/div/div/div/div[2]/div/g-scrolling-carousel/div[1]/div/div/div'\n",
    "        listaInterna = []\n",
    "        print(html)\n",
    "\n",
    "\n",
    "\n",
    "        try:\n",
    "\n",
    "\n",
    "            nome = driver.find_element(By.XPATH,html +'/div[{}]/div[1]/div[3]/div[1]/div[1]/a[2]/span'.format(x))\n",
    "            print(\"a\")\n",
    "            link = driver.find_element(By.XPATH,html +'/div[{}]/a[2]'.format(x)).get_attribute('href') \n",
    "            print(\"a\")          \n",
    "            price = driver.find_element(By.XPATH, html +'/div[{}]/div[1]/div[3]/div[1]/div[2]/span'.format(x)).text\n",
    "            print(\"a\")\n",
    "            padrao = r\"por R\\$ (\\d+,\\d{2})\"\n",
    "            resultado = re.search(padrao, biggerName)\n",
    "            valor = resultado.group(1)\n",
    "            \n",
    "\n",
    "        except:\n",
    "            nome = driver.find_element(By.XPATH,html +'/div[{}]/div[1]/div[3]/div[1]/div[1]/span/a[2]/span'.format(x)).text\n",
    "            link = driver.find_element(By.XPATH,html +'/div[{}]/span/a[2]'.format(x)).get_attribute('href')\n",
    "            price = driver.find_element(By.XPATH, html +'/div[{}]/div[1]/div[3]/div[1]/div[2]/span'.format(x)).text\n",
    "        listaInterna.append(nome)\n",
    "        listaInterna.append(link)\n",
    "        listaInterna.append(price)\n",
    "        print(nome)\n",
    "        print(link)\n",
    "        print(price)\n",
    "        listaX.append(listaInterna)\n",
    "\n",
    "        \n",
    "    except:\n",
    "        break\n",
    "    finally:\n",
    "        x = x+ 1\n",
    "\n",
    "    print(listaX)\n"
   ]
  },
  {
   "cell_type": "code",
   "execution_count": 49,
   "metadata": {},
   "outputs": [
    {
     "name": "stdout",
     "output_type": "stream",
     "text": [
      "Valor encontrado: 869,00\n"
     ]
    }
   ],
   "source": [
    "import re\n",
    "\n",
    "frase = \"Processador Octa Core de R$ 966 por R$ 869,00 em Casas Bahia\"\n",
    "\n",
    "padrao = r\"por R\\$ (\\d+,\\d{2})\"\n",
    "\n",
    "resultado = re.search(padrao, frase)\n",
    "\n",
    "if resultado:\n",
    "    valor = resultado.group(1)\n",
    "    print(\"Valor encontrado:\", valor)\n",
    "else:\n",
    "    print(\"Valor não encontrado.\")\n"
   ]
  },
  {
   "cell_type": "code",
   "execution_count": 50,
   "metadata": {},
   "outputs": [
    {
     "name": "stdout",
     "output_type": "stream",
     "text": [
      "Smartphone Motorola Moto E22 Azul 128GB, 4GB RAM, Tela de 6.5, Câmera Traseira Dupla, Android 12 e Processador Octa Core de R$ 966 por R$ 869,00 em Casas Bahia\n",
      "Valor encontrado: 869,00\n"
     ]
    }
   ],
   "source": [
    "\n",
    "frase = \"Smartphone Motorola Moto E22 Azul 128GB, 4GB RAM, Tela de 6.5, Câmera Traseira Dupla, Android 12 e Processador Octa Core de R$ 966 por R$ 869,00 em Casas Bahia\"\n",
    "frase2 = str(biggerName)\n",
    "if frase == frase2: print('FOI')\n",
    "print(frase)\n",
    "padrao = r\"por R\\$ (\\d+,\\d{2})\"\n",
    "resultado = re.search(padrao, frase)\n",
    "\n",
    "valor = resultado.group(1)\n",
    "if resultado:\n",
    "    \n",
    "    print(\"Valor encontrado:\", valor)\n",
    "else:\n",
    "    print(\"Valor não encontrado.\")\n",
    "\n",
    "    \n"
   ]
  }
 ],
 "metadata": {
  "kernelspec": {
   "display_name": "Python 3",
   "language": "python",
   "name": "python3"
  },
  "language_info": {
   "codemirror_mode": {
    "name": "ipython",
    "version": 3
   },
   "file_extension": ".py",
   "mimetype": "text/x-python",
   "name": "python",
   "nbconvert_exporter": "python",
   "pygments_lexer": "ipython3",
   "version": "3.10.7"
  },
  "orig_nbformat": 4
 },
 "nbformat": 4,
 "nbformat_minor": 2
}
