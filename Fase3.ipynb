{
 "cells": [
  {
   "attachments": {},
   "cell_type": "markdown",
   "metadata": {},
   "source": [
    "# Fase 3: Rastreador de Preços: \n",
    "Desenvolva um programa que monitora os preços de produtos em sites de comércio eletrônico e gera alertas quando os preços caem abaixo de um determinado valor ou quando há promoções especiais."
   ]
  },
  {
   "attachments": {},
   "cell_type": "markdown",
   "metadata": {},
   "source": [
    "Vai ser um pouco mais complexo que a s fazes anteriores, quero manter registro de valores passados e valores atuais assim como uma meta do valor demandado.\n",
    "Metodo: \n",
    "• Precisamos salvar Valor Desejado, passado e Atual. um input, o nome do produto a ser procurado, valor desejado.\n",
    "• Acessar multiplos sites, salvar seus links para acesso, salvar os links em uma variavel matrix somente salvar o melhor em um arquivo fixo.\n",
    "Bonus: Ter uma interface Grafica."
   ]
  },
  {
   "cell_type": "code",
   "execution_count": 1,
   "metadata": {},
   "outputs": [],
   "source": [
    "from selenium import webdriver\n",
    "from selenium.webdriver.common.by import By\n",
    "from selenium.webdriver.common.keys import Keys\n",
    "\n",
    "import re\n",
    "\n"
   ]
  },
  {
   "cell_type": "code",
   "execution_count": 2,
   "metadata": {},
   "outputs": [
    {
     "name": "stderr",
     "output_type": "stream",
     "text": [
      "C:\\Users\\berna\\AppData\\Local\\Temp\\ipykernel_13588\\3173517515.py:1: DeprecationWarning: executable_path has been deprecated, please pass in a Service object\n",
      "  driver = webdriver.Chrome(executable_path= './ignore/chromedriver.exe')\n"
     ]
    }
   ],
   "source": [
    "driver = webdriver.Chrome(executable_path= './ignore/chromedriver.exe')\n",
    "# Na url edita o que sera o alvo, enquanto com o get vamos abrir o site.\n",
    "url = 'https://www.google.com.br/?hl=pt-BR'\n"
   ]
  },
  {
   "cell_type": "code",
   "execution_count": 3,
   "metadata": {},
   "outputs": [],
   "source": [
    "# Aqui abrimos o arquivo de Log onde vamos salvar os nossos dados principais.\n",
    "    # vamos começar com apenas 1 produto sendo salvo por vez.\n",
    "with open(\"logFase3.txt\", \"r\") as arquivo:\n",
    "    lines = arquivo.readlines()\n",
    "#Usamos tbm o save de Arquivo para escrever nele.\n",
    "#  lembrando que Lines esta salvo em execução então pode desatualizar, vamos ter que chamr de novo quando iniciarmos os trabalhos.\n",
    "\n",
    "arquivo = open(\"logFase3.txt\", 'w')\n",
    "\n"
   ]
  },
  {
   "cell_type": "code",
   "execution_count": 4,
   "metadata": {},
   "outputs": [
    {
     "name": "stdout",
     "output_type": "stream",
     "text": [
      "Qual o produto quer comprar?\n",
      "celular \n"
     ]
    }
   ],
   "source": [
    "# Iniciando\n",
    "print(\"Qual o produto quer comprar?\")\n",
    "produto = \"celular \"  #input()\n",
    "print(produto)"
   ]
  },
  {
   "cell_type": "code",
   "execution_count": 5,
   "metadata": {},
   "outputs": [],
   "source": [
    "#Começando pelos patronicados do Google.\n",
    "driver.get(url)\n",
    "driver.find_element(By.XPATH, '/html/body/div[1]/div[3]/form/div[1]/div[1]/div[1]/div/div[2]/textarea').send_keys(produto + Keys.ENTER)"
   ]
  },
  {
   "cell_type": "code",
   "execution_count": 46,
   "metadata": {},
   "outputs": [],
   "source": [
    "x = 1\n",
    "listaX = []\n",
    "html = '/html/body/div[6]/div/div[13]/div/div/div/div/div[2]/div/g-scrolling-carousel/div[1]/div/div/div'\n",
    "\n",
    "# Vamos agora montar a lista de preços\n",
    "while True:\n",
    "    try:\n",
    "        listaInterna = []\n",
    "        #Coletando os valores da pagina\n",
    "        try:\n",
    "            nome = driver.find_element(By.XPATH,html +'/div[{}]/div[1]/div[3]/div[1]/div[1]/a[2]/span'.format(x)).text\n",
    "            link = driver.find_element(By.XPATH,html +'/div[{}]/a[2]'.format(x)).get_attribute('href')\n",
    "            price = driver.find_element(By.XPATH, html +'/div[{}]/div[1]/div[3]/div[1]/div[2]/span'.format(x)).text\n",
    "        except:\n",
    "            nome = driver.find_element(By.XPATH,html +'/div[{}]/div[1]/div[3]/div[1]/div[1]/span/a[2]/span'.format(x)).text\n",
    "            link = driver.find_element(By.XPATH,html +'/div[{}]/span/a[2]'.format(x)).get_attribute('href')\n",
    "            price = driver.find_element(By.XPATH, html +'/div[{}]/div[1]/div[3]/div[1]/div[2]/span'.format(x)).text  \n",
    "        #montando a lista\n",
    "        listaInterna.append(nome)\n",
    "        listaInterna.append(price)\n",
    "\n",
    "        listaInterna.append(link)\n",
    "\n",
    "        listaX.append(listaInterna)        \n",
    "    except:\n",
    "        break\n",
    "    finally:\n",
    "        x = x+ 1\n"
   ]
  },
  {
   "cell_type": "code",
   "execution_count": 47,
   "metadata": {},
   "outputs": [],
   "source": [
    "#Convertendo Price to float\n",
    "y = 0\n",
    "for x in listaX:\n",
    "    limpeza = x[1][3:].replace('.','')\n",
    "    listaX[y][1] = float(limpeza.replace(',','.'))\n",
    "    y += 1"
   ]
  },
  {
   "cell_type": "code",
   "execution_count": 52,
   "metadata": {},
   "outputs": [],
   "source": [
    "import json\n",
    "\n",
    "lista = ['Smartphone Samsung Galaxy A04e 64GB Azul 4G Octa-Core 3GB RAM 6,5 Câm.', 669.0, 'link']\n",
    "\n",
    "json_data = json.dumps(lista)\n",
    "\n",
    "# Salvar em um arquivo\n",
    "with open('lista.json', 'w') as file:\n",
    "    file.write(json_data)\n",
    "\n"
   ]
  },
  {
   "cell_type": "code",
   "execution_count": 51,
   "metadata": {},
   "outputs": [
    {
     "name": "stdout",
     "output_type": "stream",
     "text": [
      "['Smartphone Samsung Galaxy A04e 64GB Azul 4G Octa-Core 3GB RAM 6,5 Câm.', 669.0, 'https://www.google.com.br/aclk?sa=l&ai=DChcSEwjensHHpI6AAxUad5EKHXUFBsUYABARGgJjZQ&sig=AOD64_361klpKbMv0pbmv2i_ygE3uW_JsQ&ctype=46&q=&ved=2ahUKEwjqkLzHpI6AAxX5IbkGHc6XA3cQ5bgDKAB6BAgHEAo&adurl=']\n"
     ]
    }
   ],
   "source": [
    "# Menor preço\n",
    "menor = [\"nome\", 1000000, \"link\"]\n",
    "\n",
    "for x in listaX:\n",
    "    if x[1] < menor[1]:\n",
    "        menor = x\n",
    "print(menor)\n",
    "\n",
    "\n"
   ]
  }
 ],
 "metadata": {
  "kernelspec": {
   "display_name": "Python 3",
   "language": "python",
   "name": "python3"
  },
  "language_info": {
   "codemirror_mode": {
    "name": "ipython",
    "version": 3
   },
   "file_extension": ".py",
   "mimetype": "text/x-python",
   "name": "python",
   "nbconvert_exporter": "python",
   "pygments_lexer": "ipython3",
   "version": "3.10.7"
  },
  "orig_nbformat": 4
 },
 "nbformat": 4,
 "nbformat_minor": 2
}
