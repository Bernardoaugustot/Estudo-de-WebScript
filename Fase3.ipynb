{
 "cells": [
  {
   "attachments": {},
   "cell_type": "markdown",
   "metadata": {},
   "source": [
    "# Fase 3: Rastreador de Preços: \n",
    "Desenvolva um programa que monitora os preços de produtos em sites de comércio eletrônico e gera alertas quando os preços caem abaixo de um determinado valor ou quando há promoções especiais."
   ]
  },
  {
   "attachments": {},
   "cell_type": "markdown",
   "metadata": {},
   "source": [
    "Vai ser um pouco mais complexo que a s fazes anteriores, quero manter registro de valores passados e valores atuais assim como uma meta do valor demandado.\n",
    "Metodo: \n",
    "• Precisamos salvar Valor Desejado, passado e Atual. um input, o nome do produto a ser procurado, valor desejado.\n",
    "• Acessar multiplos sites, salvar seus links para acesso, salvar os links em uma variavel matrix somente salvar o melhor em um arquivo fixo.\n",
    "Bonus: Ter uma interface Grafica."
   ]
  },
  {
   "cell_type": "code",
   "execution_count": 67,
   "metadata": {},
   "outputs": [],
   "source": [
    "from selenium import webdriver\n",
    "from selenium.webdriver.common.by import By\n",
    "from selenium.webdriver.common.keys import Keys\n"
   ]
  },
  {
   "cell_type": "code",
   "execution_count": 68,
   "metadata": {},
   "outputs": [
    {
     "name": "stderr",
     "output_type": "stream",
     "text": [
      "C:\\Users\\berna\\AppData\\Local\\Temp\\ipykernel_7068\\3173517515.py:1: DeprecationWarning: executable_path has been deprecated, please pass in a Service object\n",
      "  driver = webdriver.Chrome(executable_path= './ignore/chromedriver.exe')\n"
     ]
    }
   ],
   "source": [
    "driver = webdriver.Chrome(executable_path= './ignore/chromedriver.exe')\n",
    "# Na url edita o que sera o alvo, enquanto com o get vamos abrir o site.\n",
    "url = 'https://www.google.com.br/?hl=pt-BR'\n"
   ]
  },
  {
   "cell_type": "code",
   "execution_count": 69,
   "metadata": {},
   "outputs": [],
   "source": [
    "# Aqui abrimos o arquivo de Log onde vamos salvar os nossos dados principais.\n",
    "    # vamos começar com apenas 1 produto sendo salvo por vez.\n",
    "with open(\"logFase3.txt\", \"r\") as arquivo:\n",
    "    lines = arquivo.readlines()\n",
    "#Usamos tbm o save de Arquivo para escrever nele.\n",
    "#  lembrando que Lines esta salvo em execução então pode desatualizar, vamos ter que chamr de novo quando iniciarmos os trabalhos.\n",
    "\n",
    "arquivo = open(\"logFase3.txt\", 'w')\n",
    "\n"
   ]
  },
  {
   "cell_type": "code",
   "execution_count": 70,
   "metadata": {},
   "outputs": [
    {
     "name": "stdout",
     "output_type": "stream",
     "text": [
      "Qual o produto quer comprar?\n",
      "celular \n"
     ]
    }
   ],
   "source": [
    "# Iniciando\n",
    "print(\"Qual o produto quer comprar?\")\n",
    "produto = \"celular \"  #input()\n",
    "print(produto)"
   ]
  },
  {
   "cell_type": "code",
   "execution_count": 71,
   "metadata": {},
   "outputs": [],
   "source": [
    "#Começando pelos patronicados do Google.\n",
    "driver.get(url)\n",
    "driver.find_element(By.XPATH, '/html/body/div[1]/div[3]/form/div[1]/div[1]/div[1]/div/div[2]/textarea').send_keys(produto + Keys.ENTER)"
   ]
  },
  {
   "cell_type": "code",
   "execution_count": 82,
   "metadata": {},
   "outputs": [
    {
     "name": "stdout",
     "output_type": "stream",
     "text": [
      "Smartphone Samsung Galaxy A14 128GB Dual Chip 4G Tela 6,6\" 4GB RAM Câmera Tripla 50MP+2MP+2MP Preto\n",
      "https://www.casaevideo.com.br/smartphone-samsung-sm-a145mzkrzto-a14-128gb-4g-preto/p?idsku=1390227\n",
      "R$ 899,00\n",
      "Smartphone Samsung Galaxy A04e 64GB Azul 4G Octa-Core 3GB RAM 6,5 Câm.\n",
      "https://www.magazineluiza.com.br/smartphone-samsung-galaxy-a04e-64gb-azul-4g-octa-core-3gb-ram-65-cam-dupla-selfie-5mp/p/2365915/te/ga04/?&seller_id=magazineluiza\n",
      "R$ 669,00\n",
      "Redmi 10A Graphite Gray 2GB RAM 32GB ROM - GLOBAL\n",
      "https://www.amazon.com.br/Redmi-10A-Graphite-Gray-32GB/dp/B0B5599MC9?source=ps-sl-shoppingads-lpcontext&ref_=fplfs&psc=1&smid=A1SUMN9TBI8NXF\n",
      "R$ 655,00\n",
      "Smartphone Motorola Moto G22 128GB Dual Chip 4G Tela 6.5\" Câmera Quad 50MP+8MP+2MP+2MP Azul\n",
      "https://www.casaevideo.com.br/smartphone-motorola-xt2231-g22-128gb-azul/p?idsku=190548\n",
      "R$ 899,00\n",
      "Smartphone Samsung Galaxy A14 64 GB Prata 4G Octa-Core 4GB RAM 6,6\" Câ\n",
      "https://www.magazineluiza.com.br/smartphone-samsung-galaxy-a14-64-gb-prata-4g-octa-core-4gb-ram-66-cam-tripla-selfie-13mp-dual-chip/p/2370634/te/galx/?&force=8&seller_id=magazineluiza\n",
      "R$ 759,00\n"
     ]
    }
   ],
   "source": [
    "#/html/body/div[6]/div/div[13]/div/div/div/div/div[2]/div/g-scrolling-carousel/div[1]/div/div/div/div[1]/div[1]/div[3]/div[1]/div[2]/span\n",
    "#/html/body/div[6]/div/div[13]/div/div/div/div/div[2]/div/g-scrolling-carousel/div[1]/div/div/div/div[2]/div[1]/div[3]/div[1]/div[2]/span\n",
    "x = 1\n",
    "while True:\n",
    "    try:\n",
    "        html = '/html/body/div[6]/div/div[13]/div/div/div/div/div[2]/div/g-scrolling-carousel/div[1]/div/div/div'\n",
    "        try:\n",
    "            nome = driver.find_element(By.XPATH,html +'/div[{}]/div[1]/div[3]/div[1]/div[1]/a[2]/span'.format(x)).text\n",
    "            link = driver.find_element(By.XPATH,html +'/div[{}]/a[2]'.format(x)).get_attribute('href')\n",
    "            price = driver.find_element(By.XPATH, html +'/div[{}]/div[1]/div[3]/div[1]/div[2]/span'.format(x)).text\n",
    "\n",
    "        except:\n",
    "            nome = driver.find_element(By.XPATH,html +'/div[{}]/div[1]/div[3]/div[1]/div[1]/span/a[2]/span'.format(x)).text\n",
    "            link = driver.find_element(By.XPATH,html +'/div[{}]/span/a[2]'.format(x)).get_attribute('href')\n",
    "            price = driver.find_element(By.XPATH, html +'/div[{}]/div[1]/div[3]/div[1]/div[2]/span'.format(x)).text\n",
    "\n",
    "        print(nome)\n",
    "        print(link)\n",
    "        print(price)\n",
    "\n",
    "        \n",
    "    except:\n",
    "        break\n",
    "    finally:\n",
    "        x = x+ 1\n",
    "\n",
    "    \n"
   ]
  }
 ],
 "metadata": {
  "kernelspec": {
   "display_name": "Python 3",
   "language": "python",
   "name": "python3"
  },
  "language_info": {
   "codemirror_mode": {
    "name": "ipython",
    "version": 3
   },
   "file_extension": ".py",
   "mimetype": "text/x-python",
   "name": "python",
   "nbconvert_exporter": "python",
   "pygments_lexer": "ipython3",
   "version": "3.10.7"
  },
  "orig_nbformat": 4
 },
 "nbformat": 4,
 "nbformat_minor": 2
}
