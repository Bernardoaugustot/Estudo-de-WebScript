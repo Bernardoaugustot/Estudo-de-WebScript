{
 "cells": [
  {
   "attachments": {},
   "cell_type": "markdown",
   "metadata": {},
   "source": [
    "Fase 1 : recptulação do basico de web script.\n",
    "Cumprir as tarefas e fazer uma raspagem que retorne o valor do dolar."
   ]
  },
  {
   "cell_type": "code",
   "execution_count": 21,
   "metadata": {},
   "outputs": [
    {
     "data": {
      "text/plain": [
       "' \\n• Abrir um site \\n• Selecionar elemento\\n• Raspar o target e retornalo\\ndocumentação em \\nhttps://selenium-python.readthedocs.io/locating-elements.html\\n'"
      ]
     },
     "execution_count": 21,
     "metadata": {},
     "output_type": "execute_result"
    }
   ],
   "source": [
    "''' \n",
    "• Abrir um site \n",
    "• Selecionar elemento\n",
    "• Raspar o target e retornalo\n",
    "documentação em \n",
    "https://selenium-python.readthedocs.io/locating-elements.html\n",
    "'''"
   ]
  },
  {
   "cell_type": "code",
   "execution_count": 22,
   "metadata": {},
   "outputs": [],
   "source": [
    "from selenium import webdriver\n",
    "from selenium.webdriver.common.by import By\n",
    "#Testando o mais basico posivel "
   ]
  },
  {
   "cell_type": "code",
   "execution_count": 23,
   "metadata": {},
   "outputs": [
    {
     "name": "stderr",
     "output_type": "stream",
     "text": [
      "C:\\Users\\berna\\AppData\\Local\\Temp\\ipykernel_12596\\366820353.py:1: DeprecationWarning: executable_path has been deprecated, please pass in a Service object\n",
      "  driver = webdriver.Chrome(executable_path= './ignore/chromedriver.exe')\n"
     ]
    }
   ],
   "source": [
    "driver = webdriver.Chrome(executable_path= './ignore/chromedriver.exe')"
   ]
  },
  {
   "cell_type": "code",
   "execution_count": 24,
   "metadata": {},
   "outputs": [],
   "source": [
    "# Na url edita o que sera o alvo, enquanto com o get vamos abrir o site.\n",
    "url = 'https://www.google.com/search?q=dolar&oq=dolar&aqs=chrome..69i57.2866j0j7&sourceid=chrome&ie=UTF-8'\n",
    "driver.get(url)"
   ]
  },
  {
   "attachments": {},
   "cell_type": "markdown",
   "metadata": {},
   "source": [
    "Blz Agora para localizar elementos as coisas vão ficando complicadas pois temos muitas formas de localizar, vamos repassar todas para não se perder"
   ]
  },
  {
   "cell_type": "code",
   "execution_count": 31,
   "metadata": {},
   "outputs": [
    {
     "data": {
      "text/plain": [
       "<selenium.webdriver.remote.webelement.WebElement (session=\"d0b15a59ee5ae397a924b676fcb756d9\", element=\"F872FB2FFE15AF194B1AF0F59DA514AA_element_230\")>"
      ]
     },
     "execution_count": 31,
     "metadata": {},
     "output_type": "execute_result"
    }
   ],
   "source": [
    "# localizando Tag_Name.\n",
    "loc_tagName = driver.find_element(By.TAG_NAME, 'span')\n",
    "loc_tagName.text\n",
    "# não é muito eficiente LoL"
   ]
  },
  {
   "cell_type": "code",
   "execution_count": 32,
   "metadata": {},
   "outputs": [
    {
     "ename": "NoSuchElementException",
     "evalue": "Message: no such element: Unable to locate element: {\"method\":\"css selector\",\"selector\":\".input\"}\n  (Session info: chrome=114.0.5735.199)\nStacktrace:\nBacktrace:\n\tGetHandleVerifier [0x01106E73+48323]\n\t(No symbol) [0x01099661]\n\t(No symbol) [0x00FA5308]\n\t(No symbol) [0x00FD0B45]\n\t(No symbol) [0x00FD0CDB]\n\t(No symbol) [0x00FFE3D2]\n\t(No symbol) [0x00FEA924]\n\t(No symbol) [0x00FFCAC2]\n\t(No symbol) [0x00FEA6D6]\n\t(No symbol) [0x00FC847C]\n\t(No symbol) [0x00FC957D]\n\tGetHandleVerifier [0x0136FD5D+2575277]\n\tGetHandleVerifier [0x013AF86E+2836158]\n\tGetHandleVerifier [0x013A96DC+2811180]\n\tGetHandleVerifier [0x011941B0+626688]\n\t(No symbol) [0x010A314C]\n\t(No symbol) [0x0109F4B8]\n\t(No symbol) [0x0109F59B]\n\t(No symbol) [0x010921B7]\n\tBaseThreadInitThunk [0x769C00C9+25]\n\tRtlGetAppContainerNamedObjectPath [0x778D7B4E+286]\n\tRtlGetAppContainerNamedObjectPath [0x778D7B1E+238]\n",
     "output_type": "error",
     "traceback": [
      "\u001b[1;31m---------------------------------------------------------------------------\u001b[0m",
      "\u001b[1;31mNoSuchElementException\u001b[0m                    Traceback (most recent call last)",
      "Cell \u001b[1;32mIn[32], line 3\u001b[0m\n\u001b[0;32m      1\u001b[0m \u001b[39m#Localizando um elemento pelo ID:\u001b[39;00m\n\u001b[0;32m      2\u001b[0m name \u001b[39m=\u001b[39m \u001b[39m'\u001b[39m\u001b[39mDFlfde SwHCTb\u001b[39m\u001b[39m'\u001b[39m\n\u001b[1;32m----> 3\u001b[0m Dolar_ClassName \u001b[39m=\u001b[39m driver\u001b[39m.\u001b[39;49mfind_element(By\u001b[39m.\u001b[39;49mCLASS_NAME, \u001b[39m'\u001b[39;49m\u001b[39minput\u001b[39;49m\u001b[39m'\u001b[39;49m)\n\u001b[0;32m      5\u001b[0m \u001b[39m#Dolar_ClassName\u001b[39;00m\n",
      "File \u001b[1;32mc:\\Users\\berna\\AppData\\Local\\Programs\\Python\\Python310\\lib\\site-packages\\selenium\\webdriver\\remote\\webdriver.py:855\u001b[0m, in \u001b[0;36mWebDriver.find_element\u001b[1;34m(self, by, value)\u001b[0m\n\u001b[0;32m    852\u001b[0m     by \u001b[39m=\u001b[39m By\u001b[39m.\u001b[39mCSS_SELECTOR\n\u001b[0;32m    853\u001b[0m     value \u001b[39m=\u001b[39m \u001b[39m'\u001b[39m\u001b[39m[name=\u001b[39m\u001b[39m\"\u001b[39m\u001b[39m%s\u001b[39;00m\u001b[39m\"\u001b[39m\u001b[39m]\u001b[39m\u001b[39m'\u001b[39m \u001b[39m%\u001b[39m value\n\u001b[1;32m--> 855\u001b[0m \u001b[39mreturn\u001b[39;00m \u001b[39mself\u001b[39;49m\u001b[39m.\u001b[39;49mexecute(Command\u001b[39m.\u001b[39;49mFIND_ELEMENT, {\n\u001b[0;32m    856\u001b[0m     \u001b[39m'\u001b[39;49m\u001b[39musing\u001b[39;49m\u001b[39m'\u001b[39;49m: by,\n\u001b[0;32m    857\u001b[0m     \u001b[39m'\u001b[39;49m\u001b[39mvalue\u001b[39;49m\u001b[39m'\u001b[39;49m: value})[\u001b[39m'\u001b[39m\u001b[39mvalue\u001b[39m\u001b[39m'\u001b[39m]\n",
      "File \u001b[1;32mc:\\Users\\berna\\AppData\\Local\\Programs\\Python\\Python310\\lib\\site-packages\\selenium\\webdriver\\remote\\webdriver.py:428\u001b[0m, in \u001b[0;36mWebDriver.execute\u001b[1;34m(self, driver_command, params)\u001b[0m\n\u001b[0;32m    426\u001b[0m response \u001b[39m=\u001b[39m \u001b[39mself\u001b[39m\u001b[39m.\u001b[39mcommand_executor\u001b[39m.\u001b[39mexecute(driver_command, params)\n\u001b[0;32m    427\u001b[0m \u001b[39mif\u001b[39;00m response:\n\u001b[1;32m--> 428\u001b[0m     \u001b[39mself\u001b[39;49m\u001b[39m.\u001b[39;49merror_handler\u001b[39m.\u001b[39;49mcheck_response(response)\n\u001b[0;32m    429\u001b[0m     response[\u001b[39m'\u001b[39m\u001b[39mvalue\u001b[39m\u001b[39m'\u001b[39m] \u001b[39m=\u001b[39m \u001b[39mself\u001b[39m\u001b[39m.\u001b[39m_unwrap_value(\n\u001b[0;32m    430\u001b[0m         response\u001b[39m.\u001b[39mget(\u001b[39m'\u001b[39m\u001b[39mvalue\u001b[39m\u001b[39m'\u001b[39m, \u001b[39mNone\u001b[39;00m))\n\u001b[0;32m    431\u001b[0m     \u001b[39mreturn\u001b[39;00m response\n",
      "File \u001b[1;32mc:\\Users\\berna\\AppData\\Local\\Programs\\Python\\Python310\\lib\\site-packages\\selenium\\webdriver\\remote\\errorhandler.py:243\u001b[0m, in \u001b[0;36mErrorHandler.check_response\u001b[1;34m(self, response)\u001b[0m\n\u001b[0;32m    241\u001b[0m         alert_text \u001b[39m=\u001b[39m value[\u001b[39m'\u001b[39m\u001b[39malert\u001b[39m\u001b[39m'\u001b[39m]\u001b[39m.\u001b[39mget(\u001b[39m'\u001b[39m\u001b[39mtext\u001b[39m\u001b[39m'\u001b[39m)\n\u001b[0;32m    242\u001b[0m     \u001b[39mraise\u001b[39;00m exception_class(message, screen, stacktrace, alert_text)  \u001b[39m# type: ignore[call-arg]  # mypy is not smart enough here\u001b[39;00m\n\u001b[1;32m--> 243\u001b[0m \u001b[39mraise\u001b[39;00m exception_class(message, screen, stacktrace)\n",
      "\u001b[1;31mNoSuchElementException\u001b[0m: Message: no such element: Unable to locate element: {\"method\":\"css selector\",\"selector\":\".input\"}\n  (Session info: chrome=114.0.5735.199)\nStacktrace:\nBacktrace:\n\tGetHandleVerifier [0x01106E73+48323]\n\t(No symbol) [0x01099661]\n\t(No symbol) [0x00FA5308]\n\t(No symbol) [0x00FD0B45]\n\t(No symbol) [0x00FD0CDB]\n\t(No symbol) [0x00FFE3D2]\n\t(No symbol) [0x00FEA924]\n\t(No symbol) [0x00FFCAC2]\n\t(No symbol) [0x00FEA6D6]\n\t(No symbol) [0x00FC847C]\n\t(No symbol) [0x00FC957D]\n\tGetHandleVerifier [0x0136FD5D+2575277]\n\tGetHandleVerifier [0x013AF86E+2836158]\n\tGetHandleVerifier [0x013A96DC+2811180]\n\tGetHandleVerifier [0x011941B0+626688]\n\t(No symbol) [0x010A314C]\n\t(No symbol) [0x0109F4B8]\n\t(No symbol) [0x0109F59B]\n\t(No symbol) [0x010921B7]\n\tBaseThreadInitThunk [0x769C00C9+25]\n\tRtlGetAppContainerNamedObjectPath [0x778D7B4E+286]\n\tRtlGetAppContainerNamedObjectPath [0x778D7B1E+238]\n"
     ]
    }
   ],
   "source": [
    "#Localizando um elemento pelo ID:\n",
    "name = 'DFlfde SwHCTb'\n",
    "Dolar_ClassName = driver.find_element(By.CLASS_NAME, 'input')\n",
    "\n",
    "#Dolar_ClassName"
   ]
  },
  {
   "cell_type": "code",
   "execution_count": null,
   "metadata": {},
   "outputs": [
    {
     "ename": "AttributeError",
     "evalue": "'WebDriver' object has no attribute 'find_element_by_class_name'",
     "output_type": "error",
     "traceback": [
      "\u001b[1;31m---------------------------------------------------------------------------\u001b[0m",
      "\u001b[1;31mAttributeError\u001b[0m                            Traceback (most recent call last)",
      "Cell \u001b[1;32mIn[5], line 3\u001b[0m\n\u001b[0;32m      1\u001b[0m \u001b[39m#Localizando um elemento pelo nome da classe:\u001b[39;00m\n\u001b[0;32m      2\u001b[0m \u001b[39m#element = driver.find_element_by_class_name(\"nome_da_classe\")\u001b[39;00m\n\u001b[1;32m----> 3\u001b[0m element \u001b[39m=\u001b[39m driver\u001b[39m.\u001b[39;49mfind_element_by_class_name(\u001b[39m\"\u001b[39m\u001b[39mytp-playlist-menu\u001b[39m\u001b[39m\"\u001b[39m)\n\u001b[0;32m      4\u001b[0m \u001b[39m# \u001b[39;00m\n",
      "\u001b[1;31mAttributeError\u001b[0m: 'WebDriver' object has no attribute 'find_element_by_class_name'"
     ]
    }
   ],
   "source": [
    "#Localizando um elemento pelo nome da classe:\n",
    "#element = driver.find_element_by_class_name(\"nome_da_classe\")\n",
    "#element = driver.find_element_by_class_name(\"ytp-playlist-menu\")\n",
    "# "
   ]
  },
  {
   "cell_type": "code",
   "execution_count": null,
   "metadata": {},
   "outputs": [],
   "source": [
    "#Localizando um elemento pelo seletor CSS:\n",
    "#element = driver.find_element_by_css_selector(\"seletor_css\")\n",
    "#element = driver.find_element_by_css_selector(\".ytp-play-button.ytp-button\")\n"
   ]
  },
  {
   "cell_type": "code",
   "execution_count": 27,
   "metadata": {},
   "outputs": [
    {
     "data": {
      "text/plain": [
       "'4,80'"
      ]
     },
     "execution_count": 27,
     "metadata": {},
     "output_type": "execute_result"
    }
   ],
   "source": [
    "#Localizar pelo Xpath que eu acho a mais forte\n",
    "# element = driver.find_element_by_xpath(\"xpath\")\n",
    "xpath = '/html/body/div[6]/div/div[13]/div/div[2]/div[2]/div/div/div[1]/div/div/div/div/div/div/div/div/div/div[3]/div[1]/div[1]/div[2]/span[1]'\n",
    "dolar_xpath = driver.find_element(By.XPATH, xpath)\n",
    "dolar_xpath.text\n"
   ]
  },
  {
   "attachments": {},
   "cell_type": "markdown",
   "metadata": {},
   "source": [
    "Depois de Localizar podemos agora interagir com ele\n",
    "\n"
   ]
  },
  {
   "attachments": {},
   "cell_type": "markdown",
   "metadata": {},
   "source": []
  }
 ],
 "metadata": {
  "kernelspec": {
   "display_name": "Python 3",
   "language": "python",
   "name": "python3"
  },
  "language_info": {
   "codemirror_mode": {
    "name": "ipython",
    "version": 3
   },
   "file_extension": ".py",
   "mimetype": "text/x-python",
   "name": "python",
   "nbconvert_exporter": "python",
   "pygments_lexer": "ipython3",
   "version": "3.10.7"
  },
  "orig_nbformat": 4
 },
 "nbformat": 4,
 "nbformat_minor": 2
}
