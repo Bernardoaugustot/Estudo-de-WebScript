{
 "cells": [
  {
   "cell_type": "code",
   "execution_count": null,
   "metadata": {},
   "outputs": [],
   "source": [
    "from selenium import webdriver\n",
    "from selenium.webdriver.common.by import By\n",
    "import time\n",
    "\n",
    "browser=webdriver.Firefox()\n",
    "browser.get(\"https://wiki.ubuntu.com\")\n",
    "element=browser.find_element(By.ID,\"searchinput\")\n",
    "element.send_keys(\"typing\")\n",
    "print(element)\n",
    "time.sleep(3)\n",
    "browser.close()"
   ]
  }
 ],
 "metadata": {
  "language_info": {
   "name": "python"
  },
  "orig_nbformat": 4
 },
 "nbformat": 4,
 "nbformat_minor": 2
}
