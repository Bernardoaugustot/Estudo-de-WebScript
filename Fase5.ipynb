{
 "cells": [
  {
   "cell_type": "markdown",
   "metadata": {},
   "source": [
    "# Fase 5 - Interface Grafica\n",
    "Vamos agora pegar tudo que aprendemos e juntar em uma interface grafica utilizavel.\n",
    "Transformando nossos codigos em funções a serem chamadas.\n"
   ]
  },
  {
   "cell_type": "code",
   "execution_count": 1,
   "metadata": {},
   "outputs": [],
   "source": [
    "from selenium import webdriver\n",
    "from selenium.webdriver.common.by import By\n",
    "#from selenium.webdriver.common.keys import Keys\n",
    "import json\n",
    "from datetime import datetime\n",
    "import webbrowser\n"
   ]
  },
  {
   "cell_type": "markdown",
   "metadata": {},
   "source": [
    "### Metodos"
   ]
  },
  {
   "cell_type": "markdown",
   "metadata": {},
   "source": [
    "#### Coleta de Dados."
   ]
  },
  {
   "cell_type": "code",
   "execution_count": 2,
   "metadata": {},
   "outputs": [
    {
     "name": "stderr",
     "output_type": "stream",
     "text": [
      "C:\\Users\\berna\\AppData\\Local\\Temp\\ipykernel_15216\\1374954969.py:9: DeprecationWarning: executable_path has been deprecated, please pass in a Service object\n",
      "  driver = webdriver.Chrome(executable_path= './ignore/chromedriver.exe', options=chrome_options)\n"
     ]
    },
    {
     "name": "stdout",
     "output_type": "stream",
     "text": [
      "Google\n"
     ]
    }
   ],
   "source": [
    "from selenium import webdriver\n",
    "from selenium.webdriver.chrome.options import Options\n",
    "\n",
    "# Configurar as opções do Chrome para o modo headless\n",
    "chrome_options = Options()\n",
    "chrome_options.add_argument(\"--headless\")\n",
    "\n",
    "# Criar o driver do Chrome com as opções configuradas\n",
    "driver = webdriver.Chrome(executable_path= './ignore/chromedriver.exe', options=chrome_options)\n",
    "\n",
    "# Exemplo de uso do WebDriver em modo headless\n",
    "driver.get(\"https://www.google.com\")\n",
    "print(driver.title)\n",
    "\n",
    "# Fechar o WebDriver\n",
    "driver.quit()\n"
   ]
  },
  {
   "cell_type": "code",
   "execution_count": 3,
   "metadata": {},
   "outputs": [],
   "source": [
    "from selenium.webdriver.chrome.options import Options\n",
    "\n",
    "def pesquisar(Produto):\n",
    "    produto = str(Produto).upper()\n",
    "    listaX = []\n",
    "\n",
    "    # Configurar as opções do Chrome para o modo headless\n",
    "    chrome_options = Options()\n",
    "    chrome_options.add_argument(\"--headless\")\n",
    "    # Criar o driver do Chrome com as opções configuradas\n",
    "    driver = webdriver.Chrome(executable_path= './ignore/chromedriver.exe', options=chrome_options)\n",
    "    # Entrando no catalogo da magalu\n",
    "    url = 'https://www.magazineluiza.com.br/busca/{}/'.format(produto)\n",
    "    driver.get(url)\n",
    "    #Raspando os elementos\n",
    "    linha = 1\n",
    "    html = '/html/body/div[1]/div/main/section[4]/div[3]/div/ul/'\n",
    "    while True:\n",
    "        try:\n",
    "            html = '/html/body/div[1]/div/main/section[4]/div[3]/div/ul/'\n",
    "            listaInterna = []\n",
    "            #Coletando os valores da pagina\n",
    "            try: # PRODUTO\n",
    "                nome = driver.find_element(By.XPATH,html +'li[{}]/a/div[3]/h2'.format(linha)).text\n",
    "            except:\n",
    "                html = '/html/body/div[1]/div/main/section[4]/div[4]/div/ul/'\n",
    "                nome = driver.find_element(By.XPATH,html +'li[{}]/a/div[3]/h2'.format(linha)).text\n",
    "            try: # PREÇO\n",
    "                price = driver.find_element(By.XPATH, html +'li[{}]/a/div[3]/div[2]/div/div/p'.format(linha)).text\n",
    "            except:\n",
    "                price = driver.find_element(By.XPATH, html +'li[{}]/a/div[3]/div[1]/div/div/p'.format(linha)).text\n",
    "                #Link para compra    \n",
    "            link = driver.find_element(By.XPATH,html +'li[{}]/a'.format(linha)).get_attribute('href')\n",
    "            \n",
    "            listaInterna.append(nome)\n",
    "            listaInterna.append(price)\n",
    "            listaInterna.append(link)\n",
    "            listaX.append(listaInterna) \n",
    "            #print('Tudo Ok')\n",
    "            linha = linha + 1      \n",
    "            if linha == 20: break\n",
    "        except:\n",
    "            if linha == 1: print(\"Magualu is Fail\")\n",
    "            break\n",
    "    #Convertendo Price to float\n",
    "    y = 0\n",
    "    for x in listaX:\n",
    "        limpeza = x[1][3:].replace('.','')\n",
    "        listaX[y][1] = float(limpeza.replace(',','.'))\n",
    "        #print(listaX[y][1]) \n",
    "        y += 1\n",
    "    #Menor\n",
    "    produtoHoje = []\n",
    "    for x in listaX:\n",
    "        if produtoHoje == []: produtoHoje = x \n",
    "        if produtoHoje[1] > x[1]: produtoHoje = x \n",
    "\n",
    "    # Obter a data e hora atuais\n",
    "    data_hora_atual = datetime.now()\n",
    "    # Obter os componentes da data e hora\n",
    "\n",
    "    produtoHoje.append(f\"{data_hora_atual.day}/{data_hora_atual.month}/{data_hora_atual.year}\")\n",
    "    return produtoHoje\n",
    "    \n",
    "        "
   ]
  },
  {
   "cell_type": "markdown",
   "metadata": {},
   "source": [
    "#### Json stufs."
   ]
  },
  {
   "cell_type": "code",
   "execution_count": 4,
   "metadata": {},
   "outputs": [],
   "source": [
    "    # novo_objeto = json.dumps(menor)\n",
    "    # Aqui abrimos o nosso arquivo para poder mecher nele\n",
    "def salvajson( target = \"logFase5.json\", Produto = \"Celular\",produtoHoje = []):   \n",
    "        produto = Produto     \n",
    "        with open(target, 'r') as arquivo:\n",
    "            dados = json.load(arquivo)\n",
    "        # -----------------------------------------------------------------------------------\n",
    "\n",
    "        if produto in dados: #Varrendo nossos dados para encontrar nosso produto:\n",
    "            #Produto Lista existe agora vamos adicionar o produto de Hoje.\n",
    "            validar = True # Aqui o validar vai ser positivo para adicionar o novo elemento a lista.\n",
    "                #Se encontrado enquanto vasculhamos Validar sera neativado e não vamos repetir produtos.\n",
    "            for sub_cell in dados[produto]: #Tentando verificar se o produto de hj existe\n",
    "                if sub_cell[3] == produtoHoje[3]:\n",
    "                    print('Repitido')\n",
    "                    validar = False\n",
    "                    break\n",
    "            if validar: dados[produto].append(produtoHoje)\n",
    "        else: # Não existe a lista do produto então a criamos\n",
    "            dados[produto] = [produtoHoje]\n",
    "            \n",
    "        # Salvando\n",
    "        with open(\"logFase5.json\", \"w\") as arquivo:\n",
    "            json.dump(dados, arquivo, indent=2)\n",
    "        \n",
    "        if False: #Só vai escrever\n",
    "            with open('logFase5.json', 'w') as file:\n",
    "            #dados.append(novo_objeto)\n",
    "                json.dump(menor, file, indent=4)\n",
    "\n",
    "        \n"
   ]
  },
  {
   "cell_type": "code",
   "execution_count": 5,
   "metadata": {},
   "outputs": [],
   "source": [
    "    # Retornando o menor Valor\n",
    "def consultarHistorico(produto):\n",
    "        with open('logFase5.json', 'r') as arquivo:\n",
    "            dados = json.load(arquivo)\n",
    "        menor = []\n",
    "        for x in dados[produto]:\n",
    "            if menor == []: menor = x \n",
    "            if menor[1] > x[1]: menor = x\n",
    "        print(menor)"
   ]
  },
  {
   "cell_type": "code",
   "execution_count": 6,
   "metadata": {},
   "outputs": [],
   "source": [
    "def varredura_total(lista_elemento = 'logFase5.json'):\n",
    "    with open(lista_elemento, 'r') as arquivo:\n",
    "        dados = json.load(arquivo)\n",
    "    lista_total = []\n",
    "\n",
    "    for x1 in dados: #Estamos desfasendo a biblioteca para então podermso montar a lista grande.\n",
    "        for x2 in dados[x1]:\n",
    "            Pnome = x1\n",
    "            nome = x2[0]\n",
    "            price = x2[1]\n",
    "            link = x2[2]\n",
    "            data = x2[3]\n",
    "            lista_total.append([Pnome,nome,price, link, data]) # Lista grande montada\n",
    "    return lista_total"
   ]
  },
  {
   "cell_type": "markdown",
   "metadata": {},
   "source": [
    "### Interface Grafica\n",
    "Vamos la montar isso, vamos fazer simples, uma tela com algumas opções:\n",
    "\n",
    "Uma barra para colocar o nome do produto.\n",
    "\n",
    "Depois de Enviado ele retorna o produto com nome, preço e link"
   ]
  },
  {
   "cell_type": "code",
   "execution_count": 7,
   "metadata": {},
   "outputs": [
    {
     "name": "stderr",
     "output_type": "stream",
     "text": [
      "C:\\Users\\berna\\AppData\\Local\\Temp\\ipykernel_15216\\1098604138.py:11: DeprecationWarning: executable_path has been deprecated, please pass in a Service object\n",
      "  driver = webdriver.Chrome(executable_path= './ignore/chromedriver.exe', options=chrome_options)\n"
     ]
    }
   ],
   "source": [
    "import PySimpleGUI as sg\n",
    "import webbrowser\n",
    "\n",
    "def janela_main():\n",
    "    layout = [\n",
    "        [sg.Text(\"Digite o nome do produto:\")],\n",
    "        [sg.Input(key=\"-NOME-\")],\n",
    "        [sg.Button(\"Buscar\", key=\"Enviar\"),[sg.Button(\"Visualizar Ultimo Produto\", key=\"-visualizar_produto-\", visible=False, disabled=True)]],\n",
    "        [sg.Button(\"Historico\", key=\"janela_Historico\")]\n",
    "    ]\n",
    "    window = sg.Window(\"Caçador de Preços\", layout,size=(400, 200))\n",
    "    while True:\n",
    "        event, values = window.read()\n",
    "        if event == sg.WINDOW_CLOSED:\n",
    "            break\n",
    "        if event == \"Enviar\": # Aqui vamos adicionar o chamado aos nossos metodos\n",
    "            produtohoje = pesquisar(values[\"-NOME-\"])\n",
    "            produto = str(values[\"-NOME-\"]).upper()\n",
    "            window.hide()  \n",
    "            janela_produto(produto, produtohoje)\n",
    "            window[\"-visualizar_produto-\"].update(visible=True, disabled=False)\n",
    "            window.un_hide()\n",
    "\n",
    "        if event == \"-visualizar_produto-\":\n",
    "            window.hide()  \n",
    "            janela_produto(produto, produtohoje)\n",
    "            window.un_hide()\n",
    "\n",
    "        if event== \"janela_Historico\":\n",
    "            janela_Historico()\n",
    "\n",
    "    window.close()\n",
    "#Janela onde sera exibido os produtos\n",
    "def janela_produto( produto, produtohoje):\n",
    "    layout = [\n",
    "        [sg.Text(\"Resultado da busca\")],\n",
    "        [sg.Text(f\"Nome digitado: {produto} \\nModelo encontrado:\"+\n",
    "            f\"{produtohoje[0][:]}\\nR${produtohoje[1]} \\nLink: {produtohoje[2]}\")        \n",
    "        ],\n",
    "        [sg.Button(\"Abrir Link\"), sg.Button(\"Voltar\")],\n",
    "        [sg.Button(\"Salvar\")]\n",
    "    ]\n",
    "\n",
    "    window = sg.Window(\"Busca Efetuada\", layout,size=(400, 200))\n",
    "\n",
    "    while True:\n",
    "        event, _ = window.read()\n",
    "        if event == sg.WINDOW_CLOSED:\n",
    "            break\n",
    "        if event == \"Voltar\":\n",
    "            window.close()  # Fecha a janela secundária e retorna para a janela principal\n",
    "            break\n",
    "        if event == \"Abrir Link\":\n",
    "            link = produtohoje[2]\n",
    "            webbrowser.open(link)\n",
    "        if event == \"Salvar\":\n",
    "            salvajson(Produto = produto, produtoHoje =produtohoje)\n",
    "\n",
    "# Janela de Historico\n",
    "def janela_Historico(lista_elemento = 'logFase5.json',elementos_por_pagina= 5 ):\n",
    "    conjunto_elementos = varredura_total()\n",
    "    total_elementos = len(conjunto_elementos)\n",
    "    paginas = (total_elementos + elementos_por_pagina - 1) // elementos_por_pagina\n",
    "    # Cálculo do total de páginas\n",
    "    #Matematica para calcular o Tamanho da pagna certo\n",
    "   # if elementos_por_pagina >= len(conjunto_elementos): \n",
    "   #     elementos_por_pagina = len(conjunto_elementos)\n",
    "\n",
    "    #Layout\n",
    "    layout_pagina = [\n",
    "        [sg.Text(f\"{i +1}- {conjunto_elementos[i][0]}: {conjunto_elementos[i][1][:80]} - R${conjunto_elementos[i][2]} \", key=f\"-ELEMENTO-{i}-\"),\n",
    "         sg.Button(\"Entrar Link\", key=f\"-LINK-{i}-\")] for i in range(elementos_por_pagina)\n",
    "    ]\n",
    "    layout_botoes = [\n",
    "        [sg.Button(\"Anterior\"), sg.Button(\"Próximo\"), sg.Button(\"Fechar\")]\n",
    "    ]\n",
    "\n",
    "    layout = layout_pagina + layout_botoes\n",
    "\n",
    "    window = sg.Window(\"Lista de Elementos\", layout, size=(800, 200))\n",
    "\n",
    "    pagina_atual = 0\n",
    "\n",
    "    while True:\n",
    "        event, _ = window.read()\n",
    "        if event == sg.WINDOW_CLOSED or event == \"Fechar\":\n",
    "            break\n",
    "        if event == \"Próximo\" and pagina_atual < paginas - 1:\n",
    "            pagina_atual += 1\n",
    "            for i in range(elementos_por_pagina):\n",
    "                elemento_index = pagina_atual * elementos_por_pagina + i\n",
    "                if elemento_index < total_elementos:\n",
    "                    print(elemento_index)\n",
    "                    window[f\"-ELEMENTO-{i}-\"].update(f\"{elemento_index +1}- {conjunto_elementos[elemento_index][0]}: {conjunto_elementos[elemento_index][1][:80]} - R${conjunto_elementos[elemento_index][2]} \")\n",
    "                else:\n",
    "                    window[f\"-ELEMENTO-{i}-\"].update(\"VAZIO\")\n",
    "        if event == \"Anterior\" and pagina_atual > 0:\n",
    "            pagina_atual -= 1\n",
    "            for i in range(elementos_por_pagina):\n",
    "                elemento_index = pagina_atual * elementos_por_pagina + i\n",
    "                if elemento_index < total_elementos:\n",
    "                    window[f\"-ELEMENTO-{i}-\"].update(f\"{elemento_index +1}- {conjunto_elementos[elemento_index][0]}: {conjunto_elementos[elemento_index][1][:80]} - R${conjunto_elementos[elemento_index][2]} \")\n",
    "                else:\n",
    "                    window[f\"-ELEMENTO-{i}-\"].update(\"\")\n",
    "                    \n",
    "                # Lidar com o evento de clique em um botão link\n",
    "        for i in range(elementos_por_pagina):\n",
    "            if event == f\"-LINK-{i}-\":\n",
    "                link_index = pagina_atual * elementos_por_pagina + i\n",
    "                if link_index < total_elementos:\n",
    "                    # Aqui você pode abrir o link no navegador usando a biblioteca webbrowser\n",
    "                    import webbrowser\n",
    "                    webbrowser.open(conjunto_elementos[link_index][3])\n",
    "    window.close()\n",
    "\n",
    "\n"
   ]
  },
  {
   "cell_type": "code",
   "execution_count": 8,
   "metadata": {},
   "outputs": [
    {
     "data": {
      "text/plain": [
       "' vamos varrer nosso json voltando os dados dos elementos:\\nesse metodo deve retornar uma unica lista com os dados:\\n    (Produto, Nome, Preço, Link, Data)\\n    varrer totalmente nosso Json e coletar isso, usando bonecas russas e cascatas conseguimos.\\n    o Return é uma Lista\\n\\n\\n '"
      ]
     },
     "execution_count": 8,
     "metadata": {},
     "output_type": "execute_result"
    }
   ],
   "source": [
    "# Varredura Total: \n",
    "''' vamos varrer nosso json voltando os dados dos elementos:\n",
    "esse metodo deve retornar uma unica lista com os dados:\n",
    "    (Produto, Nome, Preço, Link, Data)\n",
    "    varrer totalmente nosso Json e coletar isso, usando bonecas russas e cascatas conseguimos.\n",
    "    o Return é uma Lista\n",
    "\n",
    "\n",
    " '''\n",
    "\n"
   ]
  },
  {
   "cell_type": "markdown",
   "metadata": {},
   "source": [
    "Agora o que posso fazer para melhorar?\n",
    "\n",
    "• Usar Json para ter uma lista de produtos salvos.\n",
    "• A lista sera navegavel entre abas.\n",
    "• ela ficara abaixo do menu principal, tendo a poção de consultar ou fazer uma nova porcura.\n",
    " ! Vamos fazer primeiro como uma janela a parte."
   ]
  },
  {
   "cell_type": "markdown",
   "metadata": {},
   "source": [
    "# MAIN\n"
   ]
  },
  {
   "cell_type": "code",
   "execution_count": 9,
   "metadata": {},
   "outputs": [],
   "source": [
    "\n",
    "\n",
    "if True:\n",
    "    janela_main()"
   ]
  }
 ],
 "metadata": {
  "kernelspec": {
   "display_name": "Python 3",
   "language": "python",
   "name": "python3"
  },
  "language_info": {
   "codemirror_mode": {
    "name": "ipython",
    "version": 3
   },
   "file_extension": ".py",
   "mimetype": "text/x-python",
   "name": "python",
   "nbconvert_exporter": "python",
   "pygments_lexer": "ipython3",
   "version": "3.10.7"
  },
  "orig_nbformat": 4
 },
 "nbformat": 4,
 "nbformat_minor": 2
}
