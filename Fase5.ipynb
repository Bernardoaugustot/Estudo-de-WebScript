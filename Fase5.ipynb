{
 "cells": [
  {
   "cell_type": "markdown",
   "metadata": {},
   "source": [
    "# Fase 5 - Interface Grafica\n",
    "Vamos agora pegar tudo que aprendemos e juntar em uma interface grafica utilizavel.\n",
    "Transformando nossos codigos em funções a serem chamadas.\n"
   ]
  },
  {
   "cell_type": "code",
   "execution_count": 58,
   "metadata": {},
   "outputs": [],
   "source": [
    "from selenium import webdriver\n",
    "from selenium.webdriver.common.by import By\n",
    "#from selenium.webdriver.common.keys import Keys\n",
    "import json\n",
    "from datetime import datetime\n",
    "import webbrowser\n"
   ]
  },
  {
   "cell_type": "markdown",
   "metadata": {},
   "source": [
    "### Metodos"
   ]
  },
  {
   "cell_type": "markdown",
   "metadata": {},
   "source": [
    "#### Coleta de Dados."
   ]
  },
  {
   "cell_type": "code",
   "execution_count": 59,
   "metadata": {},
   "outputs": [],
   "source": [
    "def pesquisar(Produto):\n",
    "    produto = str(Produto).upper()\n",
    "    listaX = []\n",
    "    driver = webdriver.Chrome(executable_path= './ignore/chromedriver.exe')\n",
    "    # Entrando no catalogo da magalu\n",
    "    url = 'https://www.magazineluiza.com.br/busca/{}/'.format(produto)\n",
    "    driver.get(url)\n",
    "    #Raspando os elementos\n",
    "    linha = 1\n",
    "    html = '/html/body/div[1]/div/main/section[4]/div[3]/div/ul/'\n",
    "    while True:\n",
    "        try:\n",
    "            html = '/html/body/div[1]/div/main/section[4]/div[3]/div/ul/'\n",
    "            listaInterna = []\n",
    "            #Coletando os valores da pagina\n",
    "            try: # PRODUTO\n",
    "                nome = driver.find_element(By.XPATH,html +'li[{}]/a/div[3]/h2'.format(linha)).text\n",
    "            except:\n",
    "                html = '/html/body/div[1]/div/main/section[4]/div[4]/div/ul/'\n",
    "                nome = driver.find_element(By.XPATH,html +'li[{}]/a/div[3]/h2'.format(linha)).text\n",
    "            try: # PREÇO\n",
    "                price = driver.find_element(By.XPATH, html +'li[{}]/a/div[3]/div[2]/div/div/p'.format(linha)).text\n",
    "            except:\n",
    "                price = driver.find_element(By.XPATH, html +'li[{}]/a/div[3]/div[1]/div/div/p'.format(linha)).text\n",
    "                #Link para compra    \n",
    "            link = driver.find_element(By.XPATH,html +'li[{}]/a'.format(linha)).get_attribute('href')\n",
    "            \n",
    "            listaInterna.append(nome)\n",
    "            listaInterna.append(price)\n",
    "            listaInterna.append(link)\n",
    "            listaX.append(listaInterna) \n",
    "            #print('Tudo Ok')\n",
    "            linha = linha + 1      \n",
    "            if linha == 10: break\n",
    "        except:\n",
    "            if linha == 1: print(\"Magualu is Fail\")\n",
    "            break\n",
    "    #Convertendo Price to float\n",
    "    y = 0\n",
    "    for x in listaX:\n",
    "        limpeza = x[1][3:].replace('.','')\n",
    "        listaX[y][1] = float(limpeza.replace(',','.'))\n",
    "        #print(listaX[y][1]) \n",
    "        y += 1\n",
    "    #Menor\n",
    "    produtoHoje = []\n",
    "    for x in listaX:\n",
    "        if produtoHoje == []: produtoHoje = x \n",
    "        if produtoHoje[1] > x[1]: produtoHoje = x \n",
    "\n",
    "    # Obter a data e hora atuais\n",
    "    data_hora_atual = datetime.now()\n",
    "    # Obter os componentes da data e hora\n",
    "\n",
    "    produtoHoje.append(f\"{data_hora_atual.day}/{data_hora_atual.month}/{data_hora_atual.year}\")\n",
    "    return produtoHoje\n",
    "    \n",
    "        "
   ]
  },
  {
   "cell_type": "markdown",
   "metadata": {},
   "source": [
    "#### Json stufs."
   ]
  },
  {
   "cell_type": "code",
   "execution_count": 60,
   "metadata": {},
   "outputs": [],
   "source": [
    "    # novo_objeto = json.dumps(menor)\n",
    "    # Aqui abrimos o nosso arquivo para poder mecher nele\n",
    "def salvajson(self, target = \"logFase5.json\", produto = \"Celular\",produtoHoje = []):        \n",
    "        with open(target, 'r') as arquivo:\n",
    "            dados = json.load(arquivo)\n",
    "        # -----------------------------------------------------------------------------------\n",
    "\n",
    "        if produto in dados: #Varrendo nossos dados para encontrar nosso produto:\n",
    "            #Produto Lista existe agora vamos adicionar o produto de Hoje.\n",
    "            validar = True # Aqui o validar vai ser positivo para adicionar o novo elemento a lista.\n",
    "                #Se encontrado enquanto vasculhamos Validar sera neativado e não vamos repetir produtos.\n",
    "            for sub_cell in dados[produto]: #Tentando verificar se o produto de hj existe\n",
    "                if sub_cell[3] == produtoHoje[3]:\n",
    "                    print('Repitido')\n",
    "                    validar = False\n",
    "                    break\n",
    "            if validar: dados[produto].append(produtoHoje)\n",
    "        else: # Não existe a lista do produto então a criamos\n",
    "            dados[produto] = [produtoHoje]\n",
    "            \n",
    "        # Salvando\n",
    "        with open(\"logFase5.json\", \"w\") as arquivo:\n",
    "            json.dump(dados, arquivo, indent=2)\n",
    "        \n",
    "        if False: #Só vai escrever\n",
    "            with open('logFase5.json', 'w') as file:\n",
    "            #dados.append(novo_objeto)\n",
    "                json.dump(menor, file, indent=4)\n",
    "\n",
    "        \n"
   ]
  },
  {
   "cell_type": "code",
   "execution_count": 61,
   "metadata": {},
   "outputs": [],
   "source": [
    "    # Retornando o menor Valor\n",
    "def consultarHistorico(produto):\n",
    "        with open('logFase4.json', 'r') as arquivo:\n",
    "            dados = json.load(arquivo)\n",
    "        menor = []\n",
    "        for x in dados[produto]:\n",
    "            if menor == []: menor = x \n",
    "            if menor[1] > x[1]: menor = x\n",
    "        print(menor)"
   ]
  },
  {
   "cell_type": "markdown",
   "metadata": {},
   "source": [
    "### Interface Grafica\n",
    "Vamos la montar isso, vamos fazer simples, uma tela com algumas opções:\n",
    "\n",
    "Uma barra para colocar o nome do produto.\n",
    "\n",
    "Depois de Enviado ele retorna o produto com nome, preço e link"
   ]
  },
  {
   "cell_type": "code",
   "execution_count": 62,
   "metadata": {},
   "outputs": [
    {
     "name": "stderr",
     "output_type": "stream",
     "text": [
      "C:\\Users\\berna\\AppData\\Local\\Temp\\ipykernel_8928\\2499439951.py:4: DeprecationWarning: executable_path has been deprecated, please pass in a Service object\n",
      "  driver = webdriver.Chrome(executable_path= './ignore/chromedriver.exe')\n"
     ]
    }
   ],
   "source": [
    "import PySimpleGUI as sg\n",
    "import webbrowser\n",
    "\n",
    "def janela_main():\n",
    "    layout = [\n",
    "        [sg.Text(\"Digite o nome do produto:\")],\n",
    "        [sg.Input(key=\"-NOME-\")],\n",
    "        [sg.Button(\"Buscar\", key=\"Enviar\"),\n",
    "            [sg.Button(\"Visualizar Ultimo Produto\", key=\"-BOTAO_HABILITADO-\", visible=False, disabled=True)]\n",
    "        ]\n",
    "    ]\n",
    "    window = sg.Window(\"Caçador de Preços\", layout,size=(400, 200))\n",
    "    while True:\n",
    "        event, values = window.read()\n",
    "        if event == sg.WINDOW_CLOSED:\n",
    "            break\n",
    "        if event == \"Enviar\": # Aqui vamos adicionar o chamado aos nossos metodos\n",
    "            produtohoje = pesquisar(values[\"-NOME-\"])\n",
    "            produto = values[\"-NOME-\"]\n",
    "            \n",
    "            #nome_digitado = values[\"-NOME-\"]\n",
    "            window.hide()  \n",
    "            janela_produto(produto, produtohoje)\n",
    "            window[\"-BOTAO_HABILITADO-\"].update(visible=True, disabled=False)\n",
    "\n",
    "            window.un_hide()\n",
    "    window.close()\n",
    "\n",
    "\n",
    "#Janela onde sera exibido os produtos\n",
    "def janela_produto( produto, produtohoje):\n",
    "    layout = [\n",
    "        [sg.Text(\"Resultado da busca\")],\n",
    "        [sg.Text(f\"Nome digitado: {produto} \\nModelo encontrado:\"+\n",
    "            f\"{produtohoje[0][15:]}\\nR${produtohoje[1]}\"        \n",
    "        )],\n",
    "        [sg.Button(\"Abrir Link\"), sg.Button(\"Voltar\")],\n",
    "        \n",
    "    ]\n",
    "\n",
    "    window = sg.Window(\"Busca Efetuada\", layout,size=(400, 200))\n",
    "\n",
    "    while True:\n",
    "        event, _ = window.read()\n",
    "        if event == sg.WINDOW_CLOSED:\n",
    "            break\n",
    "        if event == \"Voltar\":\n",
    "            window.close()  # Fecha a janela secundária e retorna para a janela principal\n",
    "            break\n",
    "        if event == \"Abrir Link\":\n",
    "            link = produtohoje[2]\n",
    "            webbrowser.open(link)\n",
    "\n",
    "\n",
    "if True:\n",
    "    janela_main()\n"
   ]
  },
  {
   "cell_type": "markdown",
   "metadata": {},
   "source": [
    "Link Open\n"
   ]
  },
  {
   "cell_type": "code",
   "execution_count": null,
   "metadata": {},
   "outputs": [],
   "source": [
    "import PySimpleGUI as sg\n",
    "import webbrowser\n",
    "\n",
    "# Sua função que retorna o link da internet\n",
    "def obter_link():\n",
    "    return \"https://www.example.com\"  # Substitua isso pelo link retornado pela sua função\n",
    "\n",
    "def main():\n",
    "    layout = [\n",
    "        [sg.Button(\"Abrir Link\")]\n",
    "    ]\n",
    "\n",
    "    window = sg.Window(\"Abrir Link no Navegador\", layout)\n",
    "\n",
    "    while True:\n",
    "        event, values = window.read()\n",
    "        if event == sg.WINDOW_CLOSED:\n",
    "            break\n",
    "        if event == \"Abrir Link\":\n",
    "            link = obter_link()\n",
    "            if link:\n",
    "                webbrowser.open(link)\n",
    "\n",
    "    window.close()\n",
    "\n",
    "if __name__ == \"__main__\":\n",
    "    main()\n"
   ]
  },
  {
   "cell_type": "code",
   "execution_count": null,
   "metadata": {},
   "outputs": [],
   "source": []
  }
 ],
 "metadata": {
  "kernelspec": {
   "display_name": "Python 3",
   "language": "python",
   "name": "python3"
  },
  "language_info": {
   "codemirror_mode": {
    "name": "ipython",
    "version": 3
   },
   "file_extension": ".py",
   "mimetype": "text/x-python",
   "name": "python",
   "nbconvert_exporter": "python",
   "pygments_lexer": "ipython3",
   "version": "3.10.7"
  },
  "orig_nbformat": 4
 },
 "nbformat": 4,
 "nbformat_minor": 2
}
