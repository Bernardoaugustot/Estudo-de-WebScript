{
 "cells": [
  {
   "cell_type": "markdown",
   "metadata": {},
   "source": [
    "## Fase 4 - Lidando Com JSON\n",
    "Aqui vamos trabalhar com a raspagem da Fase 3, trabalhar com os dados encontrados em armazenamentos do tipo JSON.\n",
    "manos ordernar tudo bonito, "
   ]
  },
  {
   "cell_type": "code",
   "execution_count": 38,
   "metadata": {},
   "outputs": [],
   "source": [
    "from selenium import webdriver\n",
    "from selenium.webdriver.common.by import By\n",
    "#from selenium.webdriver.common.keys import Keys\n",
    "import json\n",
    "from datetime import datetime\n"
   ]
  },
  {
   "cell_type": "markdown",
   "metadata": {},
   "source": [
    "# Dados da fase 3\n",
    "    Ignorar\n"
   ]
  },
  {
   "cell_type": "code",
   "execution_count": 39,
   "metadata": {},
   "outputs": [
    {
     "name": "stdout",
     "output_type": "stream",
     "text": [
      "Qual o produto quer comprar?\n",
      "CELULAR\n"
     ]
    }
   ],
   "source": [
    "# Iniciando\n",
    "print(\"Qual o produto quer comprar?\")\n",
    "produto = \"celular\".upper()  #input()\n",
    "print(produto)\n",
    "# lista de todos os produtos encontrados.\n",
    "listaX = []\n"
   ]
  },
  {
   "cell_type": "code",
   "execution_count": 46,
   "metadata": {},
   "outputs": [
    {
     "name": "stderr",
     "output_type": "stream",
     "text": [
      "C:\\Users\\berna\\AppData\\Local\\Temp\\ipykernel_13928\\2298587459.py:1: DeprecationWarning: executable_path has been deprecated, please pass in a Service object\n",
      "  driver = webdriver.Chrome(executable_path= './ignore/chromedriver.exe')\n"
     ]
    },
    {
     "name": "stdout",
     "output_type": "stream",
     "text": [
      "1\n",
      "Smartphone Samsung Galaxy A54 128GB Preto 5G - 8GB RAM Câm. Tripla + Fone Galaxy Buds2\n",
      "https://www.magazineluiza.com.br/smartphone-samsung-galaxy-a54-128gb-preto-5g-8gb-ram-cam-tripla-fone-galaxy-buds2/p/229886600/te/ga54/\n",
      "R$ 2.348,00\n",
      "Tudo Ok\n",
      "2\n",
      "Smartphone Samsung Galaxy A54 128GB Verde 5G - 8GB RAM Câm. Tripla + Fone Galaxy Buds2\n",
      "https://www.magazineluiza.com.br/smartphone-samsung-galaxy-a54-128gb-verde-5g-8gb-ram-cam-tripla-fone-galaxy-buds2/p/229886400/te/ga54/\n",
      "R$ 2.248,00\n",
      "Tudo Ok\n",
      "3\n",
      "Smartphone Samsung Galaxy A04e 64GB Preto 4G Octa-Core 3GB RAM 6,5” Câm. Dupla + Selfie 5MP\n",
      "https://www.magazineluiza.com.br/smartphone-samsung-galaxy-a04e-64gb-preto-4g-octa-core-3gb-ram-65-cam-dupla-selfie-5mp/p/236591300/te/ga04/\n",
      "R$ 699,09\n",
      "Tudo Ok\n",
      "4\n",
      "Smartphone Samsung Galaxy A14 128GB Preto 4G Octa-Core 4GB RAM 6,6\" Câm. Tripla + Selfie 13MP Dual Chip\n",
      "https://www.magazineluiza.com.br/smartphone-samsung-galaxy-a14-128gb-preto-4g-octa-core-4gb-ram-66-cam-tripla-selfie-13mp-dual-chip/p/236721400/te/galx/\n",
      "R$ 929,00\n",
      "Tudo Ok\n",
      "5\n",
      "Smartphone Samsung Galaxy A14 128GB Verde Lima 4G Octa-Core 4GB RAM 6,6\" Câm. Tripla + Selfie 13MP Dual Chip\n",
      "https://www.magazineluiza.com.br/smartphone-samsung-galaxy-a14-128gb-verde-lima-4g-octa-core-4gb-ram-66-cam-tripla-selfie-13mp-dual-chip/p/236721500/te/galx/\n",
      "R$ 929,00\n",
      "Tudo Ok\n",
      "6\n",
      "Smartphone Samsung Galaxy A14 64 GB Prata 4G Octa-Core 4GB RAM 6,6\" Câm. Tripla + Selfie 13MP Dual Chip\n",
      "https://www.magazineluiza.com.br/smartphone-samsung-galaxy-a14-64-gb-prata-4g-octa-core-4gb-ram-66-cam-tripla-selfie-13mp-dual-chip/p/237063400/te/galx/\n",
      "R$ 799,00\n",
      "Tudo Ok\n",
      "7\n",
      "Smartphone Samsung Galaxy A14 64 GB Verde Lima 4G Octa-Core 4GB RAM 6,6\" Câm. Tripla + Selfie 13MP Dual Chip\n",
      "https://www.magazineluiza.com.br/smartphone-samsung-galaxy-a14-64-gb-verde-lima-4g-octa-core-4gb-ram-66-cam-tripla-selfie-13mp-dual-chip/p/237063600/te/galx/\n",
      "R$ 799,00\n",
      "Tudo Ok\n",
      "8\n",
      "Smartphone Samsung Galaxy A14 64 GB Preto 4G Octa-Core 4GB RAM 6,6\" Câm. Tripla + Selfie 13MP Dual Chip\n",
      "https://www.magazineluiza.com.br/smartphone-samsung-galaxy-a14-64-gb-preto-4g-octa-core-4gb-ram-66-cam-tripla-selfie-13mp-dual-chip/p/237063500/te/galx/\n",
      "R$ 799,00\n",
      "Tudo Ok\n",
      "9\n",
      "Smartphone Samsung Galaxy A14 64 GB Prata 5G Octa-Core - 4GB RAM 6,6\" Câm. Tripla + Selfie 13MP Dual Chip\n",
      "https://www.magazineluiza.com.br/smartphone-samsung-galaxy-a14-64-gb-prata-5g-octa-core-4gb-ram-66-cam-tripla-selfie-13mp-dual-chip/p/237063800/te/ga14/\n",
      "R$ 935,10\n",
      "Tudo Ok\n",
      "10\n",
      "Smartphone Samsung Galaxy A04s 64GB Branco 4G - Octa-Core 4GB RAM 6,5” Câm. Tripla + Selfie 5MP\n",
      "https://www.magazineluiza.com.br/smartphone-samsung-galaxy-a04s-64gb-branco-4g-octa-core-4gb-ram-65-cam-tripla-selfie-5mp/p/237123400/te/ga04/\n",
      "R$ 764,10\n",
      "Tudo Ok\n"
     ]
    }
   ],
   "source": [
    "driver = webdriver.Chrome(executable_path= './ignore/chromedriver.exe')\n",
    "# Entrando no catalogo da magalu\n",
    "url = 'https://www.magazineluiza.com.br/busca/{}/'.format(produto)\n",
    "driver.get(url)\n",
    "#Raspando os elementos\n",
    "linha = 1\n",
    "#html = '/html/body/div[1]/div/main/section[4]/div[3]/div/ul/'\n",
    "while True:\n",
    "    try:\n",
    "        html = '/html/body/div[1]/div/main/section[4]/div[3]/div/ul/'\n",
    "        listaInterna = []\n",
    "        #Coletando os valores da pagina\n",
    "        print(linha)\n",
    "        try:\n",
    "            nome = driver.find_element(By.XPATH,html +'li[{}]/a/div[3]/h2'.format(linha)).text\n",
    "        except:\n",
    "            html = '/html/body/div[1]/div/main/section[4]/div[4]/div/ul/'\n",
    "            nome = driver.find_element(By.XPATH,html +'li[{}]/a/div[3]/h2'.format(linha)).text\n",
    "\n",
    "        print(nome)\n",
    "        link = driver.find_element(By.XPATH,html +'li[{}]/a'.format(linha)).get_attribute('href')\n",
    "        print(link)\n",
    "        #/html/body/div[1]/div/main/section[4]/div[3]/div/ul/li[1]/a/div[3]/div[1]/div/div/p\n",
    "        try:\n",
    "            price = driver.find_element(By.XPATH, html +'li[{}]/a/div[3]/div[2]/div/div/p'.format(linha)).text\n",
    "        except:\n",
    "            price = driver.find_element(By.XPATH, html +'li[{}]/a/div[3]/div[1]/div/div/p'.format(linha)).text\n",
    "\n",
    "        print(price)\n",
    "        listaInterna.append(nome)\n",
    "        listaInterna.append(price)\n",
    "        listaInterna.append(link)\n",
    "        listaX.append(listaInterna) \n",
    "        print('Tudo Ok')\n",
    "        if linha == 10: break\n",
    "        linha = linha + 1       \n",
    "    except:\n",
    "        if linha == 1: print(\"Magualu is Fail\")\n",
    "        break\n",
    "    \n",
    "        "
   ]
  },
  {
   "cell_type": "markdown",
   "metadata": {},
   "source": [
    "Limpando os dados coletados"
   ]
  },
  {
   "cell_type": "code",
   "execution_count": 41,
   "metadata": {},
   "outputs": [],
   "source": [
    "#Convertendo Price to float\n",
    "y = 0\n",
    "for x in listaX:\n",
    "    limpeza = x[1][3:].replace('.','')\n",
    "    listaX[y][1] = float(limpeza.replace(',','.'))\n",
    "    print(listaX[y][1]) \n",
    "    y += 1\n"
   ]
  },
  {
   "cell_type": "code",
   "execution_count": 42,
   "metadata": {},
   "outputs": [],
   "source": [
    "#Menor\n",
    "produtoHoje = []\n",
    "for x in listaX:\n",
    "    if produtoHoje == []: produtoHoje = x \n",
    "    if produtoHoje[1] > x[1]: produtoHoje = x \n",
    "\n",
    "\n"
   ]
  },
  {
   "cell_type": "code",
   "execution_count": 43,
   "metadata": {},
   "outputs": [],
   "source": [
    "\n",
    "# Obter a data e hora atuais\n",
    "data_hora_atual = datetime.now()\n",
    "# Obter os componentes da data e hora\n",
    "ano = data_hora_atual.year\n",
    "mes = data_hora_atual.month\n",
    "dia = data_hora_atual.day\n",
    "hora = data_hora_atual.hour\n",
    "minuto = data_hora_atual.minute\n",
    "segundo = data_hora_atual.second\n",
    "\n",
    "produtoHoje.append(f\"Data: {dia}/{mes}/{ano}\")"
   ]
  },
  {
   "cell_type": "markdown",
   "metadata": {},
   "source": [
    "# Json\n",
    "Vamos Abrir o json, adicionar o elemento que pesquisamos na lista de elementos desse produto"
   ]
  },
  {
   "cell_type": "code",
   "execution_count": 44,
   "metadata": {},
   "outputs": [
    {
     "data": {
      "text/plain": [
       "' \\n{\\nCelular:[\\n    [\\n        lista1\\n    ],\\n    lista2,\\n    lista3\\n    ]\\ncarro:[\\n    lista1,\\n    lista2\\n    ]\\n}\\n\\n'"
      ]
     },
     "execution_count": 44,
     "metadata": {},
     "output_type": "execute_result"
    }
   ],
   "source": [
    "''' \n",
    "{\n",
    "Celular:[\n",
    "    [\n",
    "        lista1\n",
    "    ],\n",
    "    lista2,\n",
    "    lista3\n",
    "    ]\n",
    "carro:[\n",
    "    lista1,\n",
    "    lista2\n",
    "    ]\n",
    "}\n",
    "\n",
    "'''"
   ]
  },
  {
   "cell_type": "code",
   "execution_count": 45,
   "metadata": {},
   "outputs": [
    {
     "ename": "IndexError",
     "evalue": "list index out of range",
     "output_type": "error",
     "traceback": [
      "\u001b[1;31m---------------------------------------------------------------------------\u001b[0m",
      "\u001b[1;31mIndexError\u001b[0m                                Traceback (most recent call last)",
      "Cell \u001b[1;32mIn[45], line 12\u001b[0m\n\u001b[0;32m     10\u001b[0m     \u001b[39m#Se encontrado enquanto vasculhamos Validar sera neativado e não vamos repetir produtos.\u001b[39;00m\n\u001b[0;32m     11\u001b[0m \u001b[39mfor\u001b[39;00m sub_cell \u001b[39min\u001b[39;00m dados[produto]: \u001b[39m#Tentando verificar se o produto de hj existe\u001b[39;00m\n\u001b[1;32m---> 12\u001b[0m     \u001b[39mif\u001b[39;00m sub_cell[\u001b[39m3\u001b[39m] \u001b[39m==\u001b[39m produtoHoje[\u001b[39m3\u001b[39;49m]:\n\u001b[0;32m     13\u001b[0m         \u001b[39mprint\u001b[39m(\u001b[39m'\u001b[39m\u001b[39mRepitido\u001b[39m\u001b[39m'\u001b[39m)\n\u001b[0;32m     14\u001b[0m         validar \u001b[39m=\u001b[39m \u001b[39mFalse\u001b[39;00m\n",
      "\u001b[1;31mIndexError\u001b[0m: list index out of range"
     ]
    }
   ],
   "source": [
    "# novo_objeto = json.dumps(menor)\n",
    "# Aqui abrimos o nosso arquivo para poder mecher nele\n",
    "with open('logFase4.json', 'r') as arquivo:\n",
    "    dados = json.load(arquivo)\n",
    "# -----------------------------------------------------------------------------------\n",
    "\n",
    "if produto in dados: #Varrendo nossos dados para encontrar nosso produto:\n",
    "    #Produto Lista existe agora vamos adicionar o produto de Hoje.\n",
    "    validar = True # Aqui o validar vai ser positivo para adicionar o novo elemento a lista.\n",
    "        #Se encontrado enquanto vasculhamos Validar sera neativado e não vamos repetir produtos.\n",
    "    for sub_cell in dados[produto]: #Tentando verificar se o produto de hj existe\n",
    "        if sub_cell[3] == produtoHoje[3]:\n",
    "            print('Repitido')\n",
    "            validar = False\n",
    "            break\n",
    "    if validar: dados[produto].append(produtoHoje)\n",
    "else: # Não existe a lista do produto então a criamos\n",
    "    dados[produto] = [produtoHoje]\n",
    "    \n",
    "# Salvando\n",
    "with open(\"logFase4.json\", \"w\") as arquivo:\n",
    "    json.dump(dados, arquivo, indent=2)\n",
    "\n",
    "    \n",
    "\n",
    "\n",
    "\n",
    "if False: #Só vai escrever\n",
    "    with open('logFase4.json', 'w') as file:\n",
    "    #dados.append(novo_objeto)\n",
    "        json.dump(menor, file, indent=4)\n",
    "\n",
    "    \n"
   ]
  },
  {
   "cell_type": "markdown",
   "metadata": {},
   "source": []
  },
  {
   "cell_type": "code",
   "execution_count": null,
   "metadata": {},
   "outputs": [
    {
     "name": "stdout",
     "output_type": "stream",
     "text": [
      "['Smartphone Samsung Galaxy A04e 64GB Preto 4G Octa-Core 3GB RAM 6,5” Câm. Dupla + Selfie 5MP', 99.09, 'https://www.magazineluiza.com.br/smartphone-samsung-galaxy-a04e-64gb-preto-4g-octa-core-3gb-ram-65-cam-dupla-selfie-5mp/p/236591300/te/ga04/', 'Data: 24/7/2023']\n"
     ]
    }
   ],
   "source": [
    "# Retornando o menor Valor\n",
    "with open('logFase4.json', 'r') as arquivo:\n",
    "    dados = json.load(arquivo)\n",
    "menor = []\n",
    "for x in dados[produto]:\n",
    "    if menor == []: menor = x \n",
    "    if menor[1] > x[1]: menor = x\n",
    "print(menor)"
   ]
  },
  {
   "cell_type": "code",
   "execution_count": 48,
   "metadata": {},
   "outputs": [],
   "source": [
    "import PySimpleGUI as sg\n",
    "\n",
    "def janela_principal():\n",
    "    layout = [\n",
    "        [sg.Text(\"Esta é a janela principal\")],\n",
    "        [sg.Button(\"Abrir Janela Secundária\")]\n",
    "    ]\n",
    "\n",
    "    window = sg.Window(\"Janela Principal\", layout)\n",
    "\n",
    "    while True:\n",
    "        event, _ = window.read()\n",
    "        if event == sg.WINDOW_CLOSED:\n",
    "            break\n",
    "        if event == \"Abrir Janela Secundária\":\n",
    "            window.hide()  # Esconde a janela principal\n",
    "            janela_secundaria()\n",
    "            window.un_hide()  # Mostra a janela principal novamente após a janela secundária ser fechada\n",
    "\n",
    "    window.close()\n",
    "\n",
    "def janela_secundaria():\n",
    "    layout = [\n",
    "        [sg.Text(\"Esta é a janela secundária\")],\n",
    "        [sg.Button(\"Voltar para a Janela Principal\")]\n",
    "    ]\n",
    "\n",
    "    window = sg.Window(\"Janela Secundária\", layout)\n",
    "\n",
    "    while True:\n",
    "        event, _ = window.read()\n",
    "        if event == sg.WINDOW_CLOSED:\n",
    "            break\n",
    "        if event == \"Voltar para a Janela Principal\":\n",
    "            window.close()  # Fecha a janela secundária e retorna para a janela principal\n",
    "            break\n",
    "\n",
    "def main():\n",
    "    janela_principal()\n",
    "\n",
    "if __name__ == \"__main__\":\n",
    "    main()\n"
   ]
  },
  {
   "cell_type": "code",
   "execution_count": 52,
   "metadata": {},
   "outputs": [
    {
     "name": "stdout",
     "output_type": "stream",
     "text": [
      "Nome digitado: CELULAR \n",
      "Modelo encontrado:3\n",
      "R$23 \n",
      "Link: 234\n"
     ]
    }
   ],
   "source": [
    "print(f\"Nome digitado: {produto} \\nModelo encontrado:\"+\n",
    "f\"{3}\\nR${23} \\nLink: {234}\")"
   ]
  },
  {
   "cell_type": "code",
   "execution_count": null,
   "metadata": {},
   "outputs": [],
   "source": [
    "import PySimpleGUI as sg\n",
    "\n",
    "def main():\n",
    "    layout = [\n",
    "        [sg.Button(\"Clique para Habilitar o Outro Botão\")],\n",
    "        [sg.Button(\"Botão Habilitado\", key=\"-BOTAO_HABILITADO-\", visible=False, disabled=True)]\n",
    "    ]\n",
    "\n",
    "    window = sg.Window(\"Botões Dinâmicos\", layout)\n",
    "\n",
    "    while True:\n",
    "        event, _ = window.read()\n",
    "        if event == sg.WINDOW_CLOSED:\n",
    "            break\n",
    "        if event == \"Clique para Habilitar o Outro Botão\":\n",
    "            # Após o evento de clique, tornamos o outro botão visível e habilitado\n",
    "            window[\"-BOTAO_HABILITADO-\"].update(visible=True, disabled=False)\n",
    "\n",
    "    window.close()\n",
    "\n",
    "if __name__ == \"__main__\":\n",
    "    main()\n"
   ]
  }
 ],
 "metadata": {
  "kernelspec": {
   "display_name": "Python 3",
   "language": "python",
   "name": "python3"
  },
  "language_info": {
   "codemirror_mode": {
    "name": "ipython",
    "version": 3
   },
   "file_extension": ".py",
   "mimetype": "text/x-python",
   "name": "python",
   "nbconvert_exporter": "python",
   "pygments_lexer": "ipython3",
   "version": "3.10.7"
  },
  "orig_nbformat": 4
 },
 "nbformat": 4,
 "nbformat_minor": 2
}
