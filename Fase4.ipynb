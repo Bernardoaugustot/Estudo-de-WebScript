{
 "cells": [
  {
   "cell_type": "markdown",
   "metadata": {},
   "source": [
    "## Fase 4 - Lidando Com JSON\n",
    "Aqui vamos trabalhar com a raspagem da Fase 3, trabalhar com os dados encontrados em armazenamentos do tipo JSON.\n",
    "manos ordernar tudo bonito, "
   ]
  },
  {
   "cell_type": "code",
   "execution_count": 1,
   "metadata": {},
   "outputs": [],
   "source": [
    "from selenium import webdriver\n",
    "from selenium.webdriver.common.by import By\n",
    "#from selenium.webdriver.common.keys import Keys\n",
    "import json\n",
    "import datetime"
   ]
  },
  {
   "cell_type": "markdown",
   "metadata": {},
   "source": [
    "# Dados da fase 3\n",
    "    Ignorar\n"
   ]
  },
  {
   "cell_type": "code",
   "execution_count": 2,
   "metadata": {},
   "outputs": [
    {
     "name": "stdout",
     "output_type": "stream",
     "text": [
      "Qual o produto quer comprar?\n",
      "celular \n"
     ]
    }
   ],
   "source": [
    "# Iniciando\n",
    "print(\"Qual o produto quer comprar?\")\n",
    "produto = \"celular \"  #input()\n",
    "print(produto)\n",
    "# lista de todos os produtos encontrados.\n",
    "listaX = []\n"
   ]
  },
  {
   "cell_type": "code",
   "execution_count": 3,
   "metadata": {},
   "outputs": [
    {
     "name": "stderr",
     "output_type": "stream",
     "text": [
      "C:\\Users\\berna\\AppData\\Local\\Temp\\ipykernel_6640\\3547935466.py:1: DeprecationWarning: executable_path has been deprecated, please pass in a Service object\n",
      "  driver = webdriver.Chrome(executable_path= './ignore/chromedriver.exe')\n"
     ]
    },
    {
     "name": "stdout",
     "output_type": "stream",
     "text": [
      "Tudo Ok\n"
     ]
    }
   ],
   "source": [
    "driver = webdriver.Chrome(executable_path= './ignore/chromedriver.exe')\n",
    "# Entrando no catalogo da magalu\n",
    "url = 'https://www.magazineluiza.com.br/busca/{}/'.format(produto)\n",
    "driver.get(url)\n",
    "#Raspando os elementos\n",
    "linha = 1\n",
    "html = '/html/body/div[1]/div/main/section[4]/div[3]/div/ul/'\n",
    "while True:\n",
    "    try:\n",
    "        listaInterna = []\n",
    "        #Coletando os valores da pagina\n",
    "        #print(linha)\n",
    "        nome = driver.find_element(By.XPATH,html +'li[{}]/a/div[3]/h2'.format(linha)).text\n",
    "        #print(nome)\n",
    "        link = driver.find_element(By.XPATH,html +'li[{}]/a'.format(linha)).get_attribute('href')\n",
    "        #print(link)\n",
    "        price = driver.find_element(By.XPATH, html +'li[{}]/a/div[3]/div[2]/div/div/p'.format(linha)).text\n",
    "        #print(price)\n",
    "        listaInterna.append(nome)\n",
    "        listaInterna.append(price)\n",
    "        listaInterna.append(link)\n",
    "        listaX.append(listaInterna) \n",
    "        print('Tudo Ok')\n",
    "        if linha == 10: break\n",
    "        linha = linha + 1       \n",
    "    except:\n",
    "        if linha == 1: print(\"Magualu is Fail\")\n",
    "        break\n",
    "    \n",
    "        "
   ]
  },
  {
   "cell_type": "markdown",
   "metadata": {},
   "source": [
    "Limpando os dados coletados"
   ]
  },
  {
   "cell_type": "code",
   "execution_count": 4,
   "metadata": {},
   "outputs": [],
   "source": [
    "#Convertendo Price to float\n",
    "y = 0\n",
    "for x in listaX:\n",
    "    limpeza = x[1][3:].replace('.','')\n",
    "    listaX[y][1] = float(limpeza.replace(',','.'))\n",
    "    y += 1"
   ]
  },
  {
   "cell_type": "code",
   "execution_count": 5,
   "metadata": {},
   "outputs": [],
   "source": [
    "# Menor preço\n",
    "menor = listaX[0]\n",
    "for x in listaX:\n",
    "    if x[1] < menor[1]:\n",
    "        menor = x\n",
    "#Adições finais\n",
    "menor.append(datetime.datetime.now().strftime(\"%d/%m/%Y\"))"
   ]
  },
  {
   "cell_type": "markdown",
   "metadata": {},
   "source": [
    "# Json"
   ]
  },
  {
   "cell_type": "code",
   "execution_count": null,
   "metadata": {},
   "outputs": [],
   "source": [
    "''' \n",
    "{\n",
    "Celular:[\n",
    "    lista1,\n",
    "    lista2,\n",
    "    lista3\n",
    "    ]\n",
    "carro:[\n",
    "    lista1,\n",
    "    lista2\n",
    "    ]\n",
    "}\n",
    "\n",
    "'''"
   ]
  },
  {
   "cell_type": "code",
   "execution_count": 10,
   "metadata": {},
   "outputs": [
    {
     "name": "stdout",
     "output_type": "stream",
     "text": [
      "Celular\n"
     ]
    }
   ],
   "source": [
    "#novo_objeto = json.dumps(menor)\n",
    "# Aqui abrimos o nosso arquivo para poder mecher nele\n",
    "with open('logFase4.json', 'r') as arquivo:\n",
    "    dados = json.load(arquivo)\n",
    "for x in dados:\n",
    "    print(x)\n",
    "if False: #Só vai escrever\n",
    "    with open('logFase43.json', 'w') as file:\n",
    "    #dados.append(novo_objeto)\n",
    "        json.dump(menor, file, indent=4)\n",
    "\n",
    "    \n"
   ]
  }
 ],
 "metadata": {
  "kernelspec": {
   "display_name": "Python 3",
   "language": "python",
   "name": "python3"
  },
  "language_info": {
   "codemirror_mode": {
    "name": "ipython",
    "version": 3
   },
   "file_extension": ".py",
   "mimetype": "text/x-python",
   "name": "python",
   "nbconvert_exporter": "python",
   "pygments_lexer": "ipython3",
   "version": "3.10.7"
  },
  "orig_nbformat": 4
 },
 "nbformat": 4,
 "nbformat_minor": 2
}
