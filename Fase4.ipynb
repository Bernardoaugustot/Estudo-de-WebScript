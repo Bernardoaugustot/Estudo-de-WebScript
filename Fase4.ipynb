{
 "cells": [
  {
   "cell_type": "markdown",
   "metadata": {},
   "source": [
    "## Fase 4 - Lidando Com JSON\n",
    "Aqui vamos trabalhar com a raspagem da Fase 3, trabalhar com os dados encontrados em armazenamentos do tipo JSON.\n",
    "manos ordernar tudo bonito, "
   ]
  },
  {
   "cell_type": "code",
   "execution_count": 43,
   "metadata": {},
   "outputs": [],
   "source": [
    "from selenium import webdriver\n",
    "from selenium.webdriver.common.by import By\n",
    "#from selenium.webdriver.common.keys import Keys\n",
    "import json\n",
    "import datetime"
   ]
  },
  {
   "cell_type": "markdown",
   "metadata": {},
   "source": [
    "# Dados da fase 3\n",
    "    Ignorar\n"
   ]
  },
  {
   "cell_type": "code",
   "execution_count": 44,
   "metadata": {},
   "outputs": [
    {
     "name": "stdout",
     "output_type": "stream",
     "text": [
      "Qual o produto quer comprar?\n",
      "celular \n"
     ]
    }
   ],
   "source": [
    "# Iniciando\n",
    "print(\"Qual o produto quer comprar?\")\n",
    "produto = \"celular \"  #input()\n",
    "print(produto)\n",
    "# lista de todos os produtos encontrados.\n",
    "listaX = []\n"
   ]
  },
  {
   "cell_type": "code",
   "execution_count": 45,
   "metadata": {},
   "outputs": [
    {
     "name": "stderr",
     "output_type": "stream",
     "text": [
      "C:\\Users\\berna\\AppData\\Local\\Temp\\ipykernel_13120\\3547935466.py:1: DeprecationWarning: executable_path has been deprecated, please pass in a Service object\n",
      "  driver = webdriver.Chrome(executable_path= './ignore/chromedriver.exe')\n"
     ]
    },
    {
     "name": "stdout",
     "output_type": "stream",
     "text": [
      "Magualu is Fail\n"
     ]
    }
   ],
   "source": [
    "driver = webdriver.Chrome(executable_path= './ignore/chromedriver.exe')\n",
    "# Entrando no catalogo da magalu\n",
    "url = 'https://www.magazineluiza.com.br/busca/{}/'.format(produto)\n",
    "driver.get(url)\n",
    "#Raspando os elementos\n",
    "linha = 1\n",
    "html = '/html/body/div[1]/div/main/section[4]/div[3]/div/ul/'\n",
    "while True:\n",
    "    try:\n",
    "        listaInterna = []\n",
    "        #Coletando os valores da pagina\n",
    "        #print(linha)\n",
    "        nome = driver.find_element(By.XPATH,html +'li[{}]/a/div[3]/h2'.format(linha)).text\n",
    "        #print(nome)\n",
    "        link = driver.find_element(By.XPATH,html +'li[{}]/a'.format(linha)).get_attribute('href')\n",
    "        #print(link)\n",
    "        price = driver.find_element(By.XPATH, html +'li[{}]/a/div[3]/div[2]/div/div/p'.format(linha)).text\n",
    "        #print(price)\n",
    "        listaInterna.append(nome)\n",
    "        listaInterna.append(price)\n",
    "        listaInterna.append(link)\n",
    "        listaX.append(listaInterna) \n",
    "        print('Tudo Ok')\n",
    "        if linha == 10: break\n",
    "        linha = linha + 1       \n",
    "    except:\n",
    "        if linha == 1: print(\"Magualu is Fail\")\n",
    "        break\n",
    "    \n",
    "        "
   ]
  },
  {
   "cell_type": "markdown",
   "metadata": {},
   "source": [
    "Limpando os dados coletados"
   ]
  },
  {
   "cell_type": "code",
   "execution_count": 46,
   "metadata": {},
   "outputs": [],
   "source": [
    "#Convertendo Price to float\n",
    "y = 0\n",
    "for x in listaX:\n",
    "    limpeza = x[1][3:].replace('.','')\n",
    "    listaX[y][1] = float(limpeza.replace(',','.'))\n",
    "    y += 1"
   ]
  },
  {
   "cell_type": "code",
   "execution_count": 47,
   "metadata": {},
   "outputs": [
    {
     "ename": "IndexError",
     "evalue": "list index out of range",
     "output_type": "error",
     "traceback": [
      "\u001b[1;31m---------------------------------------------------------------------------\u001b[0m",
      "\u001b[1;31mIndexError\u001b[0m                                Traceback (most recent call last)",
      "Cell \u001b[1;32mIn[47], line 2\u001b[0m\n\u001b[0;32m      1\u001b[0m \u001b[39m# Menor preço\u001b[39;00m\n\u001b[1;32m----> 2\u001b[0m menor \u001b[39m=\u001b[39m listaX[\u001b[39m0\u001b[39;49m]\n\u001b[0;32m      3\u001b[0m \u001b[39mfor\u001b[39;00m x \u001b[39min\u001b[39;00m listaX:\n\u001b[0;32m      4\u001b[0m     \u001b[39mif\u001b[39;00m x[\u001b[39m1\u001b[39m] \u001b[39m<\u001b[39m menor[\u001b[39m1\u001b[39m]:\n",
      "\u001b[1;31mIndexError\u001b[0m: list index out of range"
     ]
    }
   ],
   "source": [
    "# Menor preço\n",
    "menor = listaX[0]\n",
    "for x in listaX:\n",
    "    if x[1] < menor[1]:\n",
    "        menor = x\n",
    "#Adições finais\n",
    "menor.append(datetime.datetime.now().strftime(\"%d/%m/%Y\"))\n",
    "produtoHoje = menor"
   ]
  },
  {
   "cell_type": "markdown",
   "metadata": {},
   "source": [
    "# Json\n",
    "Vamos Abrir o json, adicionar o elemento que pesquisamos na lista de elementos desse produto"
   ]
  },
  {
   "cell_type": "code",
   "execution_count": null,
   "metadata": {},
   "outputs": [
    {
     "data": {
      "text/plain": [
       "' \\n{\\nCelular:[\\n    lista1,\\n    lista2,\\n    lista3\\n    ]\\ncarro:[\\n    lista1,\\n    lista2\\n    ]\\n}\\n\\n'"
      ]
     },
     "execution_count": 6,
     "metadata": {},
     "output_type": "execute_result"
    }
   ],
   "source": [
    "''' \n",
    "{\n",
    "Celular:[\n",
    "    [\n",
    "        lista1\n",
    "    ],\n",
    "    lista2,\n",
    "    lista3\n",
    "    ]\n",
    "carro:[\n",
    "    lista1,\n",
    "    lista2\n",
    "    ]\n",
    "}\n",
    "\n",
    "'''"
   ]
  },
  {
   "cell_type": "code",
   "execution_count": 78,
   "metadata": {},
   "outputs": [
    {
     "name": "stdout",
     "output_type": "stream",
     "text": [
      "??????????\n",
      "Repitido\n",
      "{'Celular': [['Smartphone Samsung Galaxy A04e 64GB Preto 4G Octa-Core 3GB RAM 6,5” Câm. Dupla + Selfie 5MP', 699.0, 'https://www.magazineluiza.com.br/smartphone-samsung-galaxy-a04e-64gb-preto-4g-octa-core-3gb-ram-65-cam-dupla-selfie-5mp/p/236591300/te/ga04/', '23/07/2020', '23/07/2023'], ['Smartphone Samsung Galaxy A04e 64GB Preto 4G Octa-Core 3GB RAM 6,5” Câm. Dupla + Selfie 5MP', 699.0, 'https://www.magazineluiza.com.br/smartphone-samsung-galaxy-a04e-64gb-preto-4g-octa-core-3gb-ram-65-cam-dupla-selfie-5mp/p/236591300/te/ga04/', '23/07/2023', '23/07/2023'], ['Smartphone Samsung Galaxy A04e 64GB Preto 4G Octa-Core 3GB RAM 6,5” Câm. Dupla + Selfie 5MP', 699.0, 'https://www.magazineluiza.com.br/smartphone-samsung-galaxy-a04e-64gb-preto-4g-octa-core-3gb-ram-65-cam-dupla-selfie-5mp/p/236591300/te/ga04/', '23/07/2023', '23/07/2023']]}\n",
      "['Smartphone Samsung Galaxy A04e 64GB Preto 4G Octa-Core 3GB RAM 6,5” Câm. Dupla + Selfie 5MP', 699.0, 'https://www.magazineluiza.com.br/smartphone-samsung-galaxy-a04e-64gb-preto-4g-octa-core-3gb-ram-65-cam-dupla-selfie-5mp/p/236591300/te/ga04/', '23/07/2020', '23/07/2023']\n"
     ]
    }
   ],
   "source": [
    "# novo_objeto = json.dumps(menor)\n",
    "# Aqui abrimos o nosso arquivo para poder mecher nele\n",
    "with open('logFase4.json', 'r') as arquivo:\n",
    "    dados = json.load(arquivo)\n",
    "# -----------------------------------------------------------------------------------\n",
    "\n",
    "if produto in dados: #Varrendo nossos dados para encontrar nosso produto:\n",
    "    #Produto Lista existe agora vamos adicionar o produto de Hoje.\n",
    "    validar = True # Aqui o validar vai ser positivo para adicionar o novo elemento a lista.\n",
    "        #Se encontrado enquanto vasculhamos Validar sera neativado e não vamos repetir produtos.\n",
    "    for sub_cell in dados[produto]: #Tentando verificar se o produto de hj existe\n",
    "        if sub_cell[3] == produtoHoje[3]:\n",
    "            print('Repitido')\n",
    "            validar = False\n",
    "            break\n",
    "    if validar: dados[produto].append(produtoHoje)\n",
    "else: # Não existe a lista do produto então a criamos\n",
    "    dados[produto] = [produtoHoje]\n",
    "    \n",
    "# Salvando\n",
    "with open(\"logFase4.json\", \"w\") as arquivo:\n",
    "    json.dump(dados, arquivo, indent=2)\n",
    "\n",
    "# Retornando o menor Valor\n",
    "menor = []\n",
    "for x in dados[produto]:\n",
    "    if menor == []: menor = x \n",
    "    if menor[1] > x[1]: menor = x\n",
    "print(menor)\n",
    "\n",
    "\n",
    "if False: #Só vai escrever\n",
    "    with open('logFase43.json', 'w') as file:\n",
    "    #dados.append(novo_objeto)\n",
    "        json.dump(menor, file, indent=4)\n",
    "\n",
    "    \n"
   ]
  },
  {
   "cell_type": "markdown",
   "metadata": {},
   "source": []
  },
  {
   "cell_type": "code",
   "execution_count": null,
   "metadata": {},
   "outputs": [],
   "source": []
  }
 ],
 "metadata": {
  "kernelspec": {
   "display_name": "Python 3",
   "language": "python",
   "name": "python3"
  },
  "language_info": {
   "codemirror_mode": {
    "name": "ipython",
    "version": 3
   },
   "file_extension": ".py",
   "mimetype": "text/x-python",
   "name": "python",
   "nbconvert_exporter": "python",
   "pygments_lexer": "ipython3",
   "version": "3.10.7"
  },
  "orig_nbformat": 4
 },
 "nbformat": 4,
 "nbformat_minor": 2
}
