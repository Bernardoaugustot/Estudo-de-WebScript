{
 "cells": [
  {
   "attachments": {},
   "cell_type": "markdown",
   "metadata": {},
   "source": [
    "# Fase 2: Top 5 noticias\n"
   ]
  },
  {
   "attachments": {},
   "cell_type": "markdown",
   "metadata": {},
   "source": [
    "Vamos abrir o G1 e trazer as primeiras 5 materias apresentadas com alguns caracteres das noticias\n",
    "\n"
   ]
  },
  {
   "cell_type": "code",
   "execution_count": 8,
   "metadata": {},
   "outputs": [],
   "source": [
    "from selenium import webdriver\n",
    "from selenium.webdriver.common.by import By"
   ]
  },
  {
   "cell_type": "code",
   "execution_count": 9,
   "metadata": {},
   "outputs": [
    {
     "name": "stderr",
     "output_type": "stream",
     "text": [
      "C:\\Users\\berna\\AppData\\Local\\Temp\\ipykernel_7392\\3895232095.py:1: DeprecationWarning: executable_path has been deprecated, please pass in a Service object\n",
      "  driver = webdriver.Chrome(executable_path= './ignore/chromedriver.exe')\n"
     ]
    }
   ],
   "source": [
    "driver = webdriver.Chrome(executable_path= './ignore/chromedriver.exe')\n",
    "# Na url edita o que sera o alvo, enquanto com o get vamos abrir o site.\n",
    "url = 'https://g1.globo.com/'\n",
    "driver.get(url)"
   ]
  },
  {
   "attachments": {},
   "cell_type": "markdown",
   "metadata": {},
   "source": [
    "• .type-materia , .gui-color-hover -MAterias\n"
   ]
  },
  {
   "cell_type": "code",
   "execution_count": 10,
   "metadata": {},
   "outputs": [
    {
     "data": {
      "text/plain": [
       "\"Lula anuncia 1ª obra do novo PAC e pede 'hora extra' para entrega até fim do mandato\""
      ]
     },
     "execution_count": 10,
     "metadata": {},
     "output_type": "execute_result"
    }
   ],
   "source": [
    "xpath = '/html/body/div[2]/main/div[2]/div/div/div/div/div[1]/div/a/ul/li[5]/div/div/span'\n",
    "materia = driver.find_element(By.XPATH, xpath)\n",
    "materia.text\n",
    "/html/body/div[2]/main/div[4]/div[2]/div/div/div/div/div/div/div/div[2]/div/div/div/div[1]/div/div/div/div[2]/div/h2/a"
   ]
  },
  {
   "cell_type": "code",
   "execution_count": 12,
   "metadata": {},
   "outputs": [
    {
     "data": {
      "text/plain": [
       "'Polícias de Brasil e Paraguai trocam acusações sobre fuga de traficante'"
      ]
     },
     "execution_count": 12,
     "metadata": {},
     "output_type": "execute_result"
    }
   ],
   "source": [
    "xpath = '/html/body/div[2]/main/div[4]/div[2]/div/div/div/div/div/div/div/div[2]/div/div/div/div[1]/div/div/div/div[2]/div/h2/a'\n",
    "materia = driver.find_element(By.XPATH, xpath)\n",
    "materia.text\n",
    "''' \n",
    "//*[@id=\"glb-main-home\"]/div[2]/div/div/div/div/div[2]/div/a/ul/li[5]/div/div/span\n",
    "//*[@id=\"glb-main-home\"]/div[2]/div/div/div/div/div[1]/div/a/ul/li[5]/div/div/span\n",
    "//*[@id=\"glb-main-home\"]/div[2]/div/div/div/div/div[3]/div/a/ul/li[5]/div/div/span\n",
    "//*[@id=\"e7c681a4-21f7-4bb9-ae4a-0af8b96f9cb4\"]/div/div[2]/div/h2/a\n",
    "\n",
    "//*[@id=\"09b388ca-64ca-4bae-a077-c665736ce93c\"]/div/div[2]/div/h2/a\n",
    "\n",
    "/html/body/div[2]/main/div[4]/div[2]/div/div/div/div/div/div/div/div[2]/div/div/div/div[1]/div/div/div/div[2]/div/h2/a\n",
    "/html/body/div[2]/main/div[4]/div[2]/div/div/div/div/div/div/div/div[2]/div/div/div/div[2]/div/div/div/div[2]/div/h2/a\n",
    "'''"
   ]
  },
  {
   "cell_type": "code",
   "execution_count": 17,
   "metadata": {},
   "outputs": [
    {
     "name": "stdout",
     "output_type": "stream",
     "text": [
      "Lula anuncia 1ª obra do novo PAC e pede 'hora extra' para entrega até fim do mandato\n",
      "1\n",
      "\n",
      "2\n"
     ]
    }
   ],
   "source": [
    "x = 1\n",
    "while x != 3:\n",
    "    xpath =  '//*[@id=\"glb-main-home\"]/div[2]/div/div/div/div/div[{}]/div/a/ul/li[5]/div/div/span'.format(x)\n",
    "    materia = driver.find_element(By.XPATH, xpath)\n",
    "    print(materia.text)\n",
    "    print(x)\n",
    "    x = x+1"
   ]
  },
  {
   "cell_type": "code",
   "execution_count": null,
   "metadata": {},
   "outputs": [],
   "source": [
    "driver.close()"
   ]
  }
 ],
 "metadata": {
  "kernelspec": {
   "display_name": "Python 3",
   "language": "python",
   "name": "python3"
  },
  "language_info": {
   "codemirror_mode": {
    "name": "ipython",
    "version": 3
   },
   "file_extension": ".py",
   "mimetype": "text/x-python",
   "name": "python",
   "nbconvert_exporter": "python",
   "pygments_lexer": "ipython3",
   "version": "3.10.7"
  },
  "orig_nbformat": 4
 },
 "nbformat": 4,
 "nbformat_minor": 2
}
