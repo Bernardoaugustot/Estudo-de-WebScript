{
 "cells": [
  {
   "attachments": {},
   "cell_type": "markdown",
   "metadata": {},
   "source": [
    "# Fase 2: Feed de Noticias\n",
    "Vamos abrir o G1 e trazer as primeiras materias apresentadas com alguns caracteres das noticias\n",
    "\n"
   ]
  },
  {
   "cell_type": "code",
   "execution_count": 1,
   "metadata": {},
   "outputs": [],
   "source": [
    "from selenium import webdriver\n",
    "from selenium.webdriver.common.by import By"
   ]
  },
  {
   "cell_type": "code",
   "execution_count": 2,
   "metadata": {},
   "outputs": [
    {
     "name": "stderr",
     "output_type": "stream",
     "text": [
      "C:\\Users\\berna\\AppData\\Local\\Temp\\ipykernel_2024\\3895232095.py:1: DeprecationWarning: executable_path has been deprecated, please pass in a Service object\n",
      "  driver = webdriver.Chrome(executable_path= './ignore/chromedriver.exe')\n"
     ]
    }
   ],
   "source": [
    "driver = webdriver.Chrome(executable_path= './ignore/chromedriver.exe')\n",
    "# Na url edita o que sera o alvo, enquanto com o get vamos abrir o site.\n",
    "url = 'https://g1.globo.com/'\n",
    "driver.get(url)"
   ]
  },
  {
   "attachments": {},
   "cell_type": "markdown",
   "metadata": {},
   "source": [
    "• .type-materia , .gui-color-hover -MAterias\n"
   ]
  },
  {
   "cell_type": "code",
   "execution_count": 3,
   "metadata": {},
   "outputs": [],
   "source": [
    "# Salvar aqui os dados do dia\n",
    "arquivo = open(\"Materias do dia.txt\", 'w')"
   ]
  },
  {
   "attachments": {},
   "cell_type": "markdown",
   "metadata": {},
   "source": []
  },
  {
   "cell_type": "code",
   "execution_count": 4,
   "metadata": {},
   "outputs": [
    {
     "data": {
      "text/plain": [
       "'\\n/html/body/div[2]/main/div[2]/div/div/div/div/div[2]/div/a/ul/li[5]/div/div/h2\\nlink1: /html/body/div[2]/main/div[2]/div/div/div/div/div[1]/div/a\\nlink2: /html/body/div[2]/main/div[2]/div/div/div/div/div[2]/div/a\\n\\n\\n'"
      ]
     },
     "execution_count": 4,
     "metadata": {},
     "output_type": "execute_result"
    }
   ],
   "source": [
    "# Coletando as materias Principais\n",
    "MainDiv = '/html/body/div[2]/main/div[2]/div/div/div/div'\n",
    "X = 1\n",
    "\n",
    "while True:\n",
    "    try:        \n",
    "        x = X\n",
    "        X +=1 \n",
    "        materiaXpath = MainDiv +'/div[{}]/div/a/ul/li[5]/div/div/h2'.format(x)\n",
    "        Materia = driver.find_element(By.XPATH ,materiaXpath).text\n",
    "        #print(Materia)\n",
    "        if Materia != '':\n",
    "            arquivo.write(str(x) +'- ' +  Materia + '\\n')\n",
    "        \n",
    "            linkMateria = driver.find_element(By.XPATH, '/html/body/div[2]/main/div[2]/div/div/div/div/div[{}]/div/a'.format(x)).get_attribute('href')\n",
    "            #print(\"---link: \"+ linkMateria)\n",
    "            arquivo.write(\"---link: \"+ linkMateria + '\\n')\n",
    "        \n",
    "    except:\n",
    "        break\n",
    "\n",
    "\"\"\"\n",
    "/html/body/div[2]/main/div[2]/div/div/div/div/div[2]/div/a/ul/li[5]/div/div/h2\n",
    "link1: /html/body/div[2]/main/div[2]/div/div/div/div/div[1]/div/a\n",
    "link2: /html/body/div[2]/main/div[2]/div/div/div/div/div[2]/div/a\n",
    "\n",
    "\n",
    "\"\"\""
   ]
  },
  {
   "cell_type": "code",
   "execution_count": 5,
   "metadata": {},
   "outputs": [
    {
     "name": "stdout",
     "output_type": "stream",
     "text": [
      "\n",
      "\n",
      "\n",
      "\n",
      "\n",
      "\n",
      "\n",
      "\n",
      "\n",
      "\n",
      "\n",
      "\n"
     ]
    }
   ],
   "source": [
    "# Coletando as materias da coluna\n",
    "arquivo.write('\\n')\n",
    "x = 1\n",
    "while x != 18:\n",
    "    try:\n",
    "        xpath =  '/html/body/div[2]/main/div[4]/div[2]/div/div/div/div/div/div/div/div[2]/div[1]/div/div/div[{}]/div/div/div/div[2]/div/a/h2'.format(x)\n",
    "        materia = driver.find_element(By.XPATH, xpath)\n",
    "        if materia != '':\n",
    "            arquivo.write(materia.text +\"\\n\")\n",
    "            #link\n",
    "            linkxpath = '/html/body/div[2]/main/div[4]/div[2]/div/div/div/div/div/div/div/div[2]/div[1]/div/div/div[{}]/div/div/div/div[3]/a'.format(x)\n",
    "            link = driver.find_element(By.XPATH, linkxpath).get_attribute('href')\n",
    "            arquivo.write('--->Link: '+ link + '\\n')\n",
    "\n",
    "\n",
    "    except:\n",
    "        print()\n",
    "    finally:\n",
    "        x = x+1"
   ]
  },
  {
   "cell_type": "code",
   "execution_count": 6,
   "metadata": {},
   "outputs": [],
   "source": [
    "driver.close()\n",
    "arquivo.close()"
   ]
  }
 ],
 "metadata": {
  "kernelspec": {
   "display_name": "Python 3",
   "language": "python",
   "name": "python3"
  },
  "language_info": {
   "codemirror_mode": {
    "name": "ipython",
    "version": 3
   },
   "file_extension": ".py",
   "mimetype": "text/x-python",
   "name": "python",
   "nbconvert_exporter": "python",
   "pygments_lexer": "ipython3",
   "version": "3.10.7"
  },
  "orig_nbformat": 4
 },
 "nbformat": 4,
 "nbformat_minor": 2
}
