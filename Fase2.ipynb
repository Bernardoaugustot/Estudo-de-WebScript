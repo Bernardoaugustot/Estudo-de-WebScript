{
 "cells": [
  {
   "attachments": {},
   "cell_type": "markdown",
   "metadata": {},
   "source": [
    "# Fase 2: Top 5 noticias\n"
   ]
  },
  {
   "attachments": {},
   "cell_type": "markdown",
   "metadata": {},
   "source": [
    "Vamos abrir o G1 e trazer as primeiras 5 materias apresentadas com alguns caracteres das noticias\n",
    "\n"
   ]
  },
  {
   "cell_type": "code",
   "execution_count": 10,
   "metadata": {},
   "outputs": [],
   "source": [
    "from selenium import webdriver\n",
    "from selenium.webdriver.common.by import By"
   ]
  },
  {
   "cell_type": "code",
   "execution_count": 11,
   "metadata": {},
   "outputs": [
    {
     "name": "stderr",
     "output_type": "stream",
     "text": [
      "C:\\Users\\berna\\AppData\\Local\\Temp\\ipykernel_15236\\3895232095.py:1: DeprecationWarning: executable_path has been deprecated, please pass in a Service object\n",
      "  driver = webdriver.Chrome(executable_path= './ignore/chromedriver.exe')\n"
     ]
    }
   ],
   "source": [
    "driver = webdriver.Chrome(executable_path= './ignore/chromedriver.exe')\n",
    "# Na url edita o que sera o alvo, enquanto com o get vamos abrir o site.\n",
    "url = 'https://g1.globo.com/'\n",
    "driver.get(url)"
   ]
  },
  {
   "attachments": {},
   "cell_type": "markdown",
   "metadata": {},
   "source": [
    "• .type-materia , .gui-color-hover -MAterias\n"
   ]
  },
  {
   "cell_type": "code",
   "execution_count": 12,
   "metadata": {},
   "outputs": [],
   "source": [
    "# Salvar aqui os dados do dia\n",
    "arquivo = open(\"Materias do dia.txt\", 'w')"
   ]
  },
  {
   "attachments": {},
   "cell_type": "markdown",
   "metadata": {},
   "source": []
  },
  {
   "cell_type": "code",
   "execution_count": 13,
   "metadata": {},
   "outputs": [
    {
     "name": "stdout",
     "output_type": "stream",
     "text": [
      "ASSISTA: Mauro Cid se cala na CPI, que segue fazendo perguntasM1\n",
      "Reforma tributária: Eduardo Braga será o relator do texto no SenadoM2\n",
      "Inflação: preços caem pela 1ª vez em 2023M3\n",
      "Calculadora da inflação: veja a variação do seu poder de compraM4\n",
      "X\n"
     ]
    }
   ],
   "source": [
    "# Testando as materias\n",
    "x = 1\n",
    "'    /html/body/div[2]/main/div[4]/div[2]/div/div/div/div/div/div/div/div[2]/div[2]/div/div/div[1]/div/div/div/div[2]/div/a/h2'\n",
    "xpath = '/html/body/div[2]/main/div[4]/div[2]/div/div/div/div/div/div/div/div[2]/div[1]/div/div/div[1]/div/div/div/div[2]/div/a/h2'\n",
    "xpath = '/html/body/div[2]/main/div[4]/div[2]/div/div/div/div/div/div/div/div[2]/div[1]/div/div/div[{}]/div/div/div/div[2]/div/a/h2'.format(x)\n",
    "xpath2 = '/html/body/div[2]/main/div[4]/div[2]/div/div/div/div/div/div/div/div[2]/div[1]/div/div/div[2]/div/div/div/div[2]/div/a/h2'\n",
    "xpath3 = '/html/body/div[2]/main/div[4]/div[2]/div/div/div/div/div/div/div/div[2]/div[1]/div/div/div[3]/div/div/div/div[2]/div/a/h2'\n",
    "xpath4 = '/html/body/div[2]/main/div[4]/div[2]/div/div/div/div/div/div/div/div[2]/div[1]/div/div/div[4]/div/div/div/div[2]/div/a/h2'\n",
    "\n",
    "materia1 = driver.find_element(By.XPATH, xpath)\n",
    "materia2 = driver.find_element(By.XPATH, xpath2)\n",
    "materia3 = driver.find_element(By.XPATH, xpath3)\n",
    "materia4 = driver.find_element(By.XPATH, xpath4)\n",
    "\n",
    "print(materia1.text + \"M1\")\n",
    "print(materia2.text+ \"M2\")\n",
    "print(materia3.text+ \"M3\")\n",
    "print(materia4.text+ \"M4\")\n",
    "#print(materia5.text+ \"M5\")\n",
    "print(\"X\")\n"
   ]
  },
  {
   "cell_type": "code",
   "execution_count": 26,
   "metadata": {},
   "outputs": [
    {
     "name": "stdout",
     "output_type": "stream",
     "text": [
      "Pazuello, Wajngarten e ex-chefe do Exército visitaram Cid na prisão; veja lista\n",
      "---link:https://g1.globo.com/politica/noticia/2023/07/11/ex-comandante-do-exercito-pazuello-e-wajngarten-visitaram-cid-na-prisao-veja-lista.ghtml\n",
      "Morte de torcedora do Palmeiras: o que mostram os vídeos do tumulto\n",
      "---link:https://g1.globo.com/sp/sao-paulo/noticia/2023/07/11/morte-de-torcedora-do-palmeiras-o-que-mostram-os-videos-da-confusao.ghtml\n",
      "Presa há 53 anos, 1ª assassina da 'Família Manson' será solta\n",
      "---link:https://g1.globo.com/mundo/noticia/2023/07/11/conheca-a-primeira-assassina-da-familia-manson-que-podera-sair-da-prisao.ghtml\n"
     ]
    },
    {
     "data": {
      "text/plain": [
       "'\\n/html/body/div[2]/main/div[2]/div/div/div/div/div[2]/div/a/ul/li[5]/div/div/h2\\nlink1: /html/body/div[2]/main/div[2]/div/div/div/div/div[1]/div/a\\nlink2: /html/body/div[2]/main/div[2]/div/div/div/div/div[2]/div/a\\n\\n\\n'"
      ]
     },
     "execution_count": 26,
     "metadata": {},
     "output_type": "execute_result"
    }
   ],
   "source": [
    "# Coletando as materias Principais\n",
    "MainDiv = '/html/body/div[2]/main/div[2]/div/div/div/div'\n",
    "X = 1\n",
    "\n",
    "while True:\n",
    "    try:        \n",
    "        x = X\n",
    "        X +=1 \n",
    "        materiaXpath = MainDiv +'/div[{}]/div/a/ul/li[5]/div/div/h2'.format(x)\n",
    "        Materia = driver.find_element(By.XPATH ,materiaXpath).text\n",
    "        print(Materia)\n",
    "        arquivo.write(Materia + '\\n')\n",
    "    \n",
    "        linkMateria = driver.find_element(By.XPATH, '/html/body/div[2]/main/div[2]/div/div/div/div/div[{}]/div/a'.format(x)).get_attribute('href')\n",
    "        print(\"---link: \"+ linkMateria)\n",
    "        arquivo.write(\"---link: \"+ linkMateria + '\\n')\n",
    "        \n",
    "    except:\n",
    "        break\n",
    "\n",
    "\"\"\"\n",
    "/html/body/div[2]/main/div[2]/div/div/div/div/div[2]/div/a/ul/li[5]/div/div/h2\n",
    "link1: /html/body/div[2]/main/div[2]/div/div/div/div/div[1]/div/a\n",
    "link2: /html/body/div[2]/main/div[2]/div/div/div/div/div[2]/div/a\n",
    "\n",
    "\n",
    "\"\"\""
   ]
  },
  {
   "cell_type": "code",
   "execution_count": null,
   "metadata": {},
   "outputs": [
    {
     "name": "stdout",
     "output_type": "stream",
     "text": [
      "\n",
      "\n",
      "\n",
      "\n",
      "\n",
      "\n",
      "\n",
      "\n",
      "\n",
      "\n"
     ]
    }
   ],
   "source": [
    "# Coletando as materias da coluna div1\n",
    "x = 1\n",
    "while x != 18:\n",
    "    try:\n",
    "        #print(x)\n",
    "        #xpath = '/html/body/div[2]/main/div[4]/div[2]/div/div/div/div/div/div/div/div[2]/div[1]/div/div/div[{}]/div/div/div/div[2]/div/a/h2'.format(x)\n",
    "\n",
    "        xpath =  '/html/body/div[2]/main/div[4]/div[2]/div/div/div/div/div/div/div/div[2]/div[1]/div/div/div[{}]/div/div/div/div[2]/div/a/h2'.format(x)\n",
    "        #/html/body/div[2]/main/div[4]/div[2]/div/div/div/div/div/div/div/div[2]/div[2]/div/div/div[1]/div/div/div/div[2]/div/a/h2\n",
    "        #/html/body/div[2]/main/div[4]/div[2]/div/div/div/div/div/div/div/div[2]/div[2]/div/div/div[6]/div/div/div/div[2]/a\n",
    "        #print(xpath)\n",
    "        materia = driver.find_element(By.XPATH, xpath)\n",
    "        arquivo.write(materia.text +\"\\n\")\n",
    "        #print(materia.text)\n",
    "    except:\n",
    "        print()\n",
    "    finally:\n",
    "        x = x+1"
   ]
  },
  {
   "cell_type": "code",
   "execution_count": null,
   "metadata": {},
   "outputs": [],
   "source": [
    "#driver.close()"
   ]
  }
 ],
 "metadata": {
  "kernelspec": {
   "display_name": "Python 3",
   "language": "python",
   "name": "python3"
  },
  "language_info": {
   "codemirror_mode": {
    "name": "ipython",
    "version": 3
   },
   "file_extension": ".py",
   "mimetype": "text/x-python",
   "name": "python",
   "nbconvert_exporter": "python",
   "pygments_lexer": "ipython3",
   "version": "3.10.7"
  },
  "orig_nbformat": 4
 },
 "nbformat": 4,
 "nbformat_minor": 2
}
