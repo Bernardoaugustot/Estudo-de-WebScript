{
 "cells": [
  {
   "attachments": {},
   "cell_type": "markdown",
   "metadata": {},
   "source": [
    "# Fase 2: Top 5 noticias\n"
   ]
  },
  {
   "attachments": {},
   "cell_type": "markdown",
   "metadata": {},
   "source": [
    "Vamos abrir o G1 e trazer as primeiras 5 materias apresentadas com alguns caracteres das noticias\n",
    "\n"
   ]
  },
  {
   "cell_type": "code",
   "execution_count": 56,
   "metadata": {},
   "outputs": [],
   "source": [
    "from selenium import webdriver\n",
    "from selenium.webdriver.common.by import By"
   ]
  },
  {
   "cell_type": "code",
   "execution_count": 81,
   "metadata": {},
   "outputs": [
    {
     "name": "stderr",
     "output_type": "stream",
     "text": [
      "C:\\Users\\berna\\AppData\\Local\\Temp\\ipykernel_12360\\3895232095.py:1: DeprecationWarning: executable_path has been deprecated, please pass in a Service object\n",
      "  driver = webdriver.Chrome(executable_path= './ignore/chromedriver.exe')\n"
     ]
    }
   ],
   "source": [
    "driver = webdriver.Chrome(executable_path= './ignore/chromedriver.exe')\n",
    "# Na url edita o que sera o alvo, enquanto com o get vamos abrir o site.\n",
    "url = 'https://g1.globo.com/'\n",
    "driver.get(url)"
   ]
  },
  {
   "attachments": {},
   "cell_type": "markdown",
   "metadata": {},
   "source": [
    "• .type-materia , .gui-color-hover -MAterias\n"
   ]
  },
  {
   "cell_type": "code",
   "execution_count": 82,
   "metadata": {},
   "outputs": [],
   "source": [
    "# Salvar aqui os dados do dia\n",
    "arquivo = open(\"Materias do dia.txt\", 'w')"
   ]
  },
  {
   "attachments": {},
   "cell_type": "markdown",
   "metadata": {},
   "source": []
  },
  {
   "cell_type": "code",
   "execution_count": 83,
   "metadata": {},
   "outputs": [
    {
     "name": "stdout",
     "output_type": "stream",
     "text": [
      "CAMAROTTI: Lula abre portas ao Centrão e destrava votação na CâmaraM1\n",
      "Dinheiro esquecido: R$ 7,1 bilhões ainda podem ser resgatadosM2\n",
      "Só 2 impostos, 'cashback' e cesta básica isenta: tudo sobre a reforma tributáriaM3\n",
      "Sorvete ou sobremesa láctea? Reforma terá 'guerra' contra distorçõesM4\n",
      "X\n"
     ]
    }
   ],
   "source": [
    "# Testando as materias\n",
    "x = 1\n",
    "'    /html/body/div[2]/main/div[4]/div[2]/div/div/div/div/div/div/div/div[2]/div[2]/div/div/div[1]/div/div/div/div[2]/div/a/h2'\n",
    "xpath = '/html/body/div[2]/main/div[4]/div[2]/div/div/div/div/div/div/div/div[2]/div[1]/div/div/div[1]/div/div/div/div[2]/div/a/h2'\n",
    "xpath = '/html/body/div[2]/main/div[4]/div[2]/div/div/div/div/div/div/div/div[2]/div[1]/div/div/div[{}]/div/div/div/div[2]/div/a/h2'.format(x)\n",
    "xpath2 = '/html/body/div[2]/main/div[4]/div[2]/div/div/div/div/div/div/div/div[2]/div[1]/div/div/div[2]/div/div/div/div[2]/div/a/h2'\n",
    "xpath3 = '/html/body/div[2]/main/div[4]/div[2]/div/div/div/div/div/div/div/div[2]/div[1]/div/div/div[3]/div/div/div/div[2]/div/a/h2'\n",
    "xpath4 = '/html/body/div[2]/main/div[4]/div[2]/div/div/div/div/div/div/div/div[2]/div[1]/div/div/div[4]/div/div/div/div[2]/div/a/h2'\n",
    "\n",
    "materia1 = driver.find_element(By.XPATH, xpath)\n",
    "materia2 = driver.find_element(By.XPATH, xpath2)\n",
    "materia3 = driver.find_element(By.XPATH, xpath3)\n",
    "materia4 = driver.find_element(By.XPATH, xpath4)\n",
    "\n",
    "print(materia1.text + \"M1\")\n",
    "print(materia2.text+ \"M2\")\n",
    "print(materia3.text+ \"M3\")\n",
    "print(materia4.text+ \"M4\")\n",
    "#print(materia5.text+ \"M5\")\n",
    "print(\"X\")\n"
   ]
  },
  {
   "cell_type": "code",
   "execution_count": 90,
   "metadata": {},
   "outputs": [
    {
     "name": "stdout",
     "output_type": "stream",
     "text": [
      "1\n",
      "Câmara conclui reforma tributária e vota projeto do Carf, prioridade do governo\n",
      "2\n",
      "FAB encontra avião com 2 corpos; 3ª pessoa segue desaparecida\n",
      "3\n",
      "Suspeita de tentar matar irmãos envenenados tem alta e é presa\n",
      "4\n"
     ]
    }
   ],
   "source": [
    "# Coletando as materias Principais\n",
    "MainDiv = '/html/body/div[2]/main/div[2]/div/div/div/div'\n",
    "x = 1\n",
    "\n",
    "while True:\n",
    "    try:\n",
    "        print(x)\n",
    "        y = MainDiv +'/div[{}]/div/a/ul/li[5]/div/div/h2'.format(x)\n",
    "        print(driver.find_element(By.XPATH, y).text)\n",
    "        arquivo.write(driver.find_element(By.XPATH, y).text + '\\n')\n",
    "        x += 1\n",
    "    except:\n",
    "        break\n"
   ]
  },
  {
   "cell_type": "code",
   "execution_count": 61,
   "metadata": {},
   "outputs": [
    {
     "name": "stdout",
     "output_type": "stream",
     "text": [
      "\n",
      "\n",
      "\n",
      "\n",
      "\n",
      "\n",
      "\n",
      "\n",
      "\n",
      "\n"
     ]
    }
   ],
   "source": [
    "# Coletando as materias da coluna div1\n",
    "x = 1\n",
    "while x != 18:\n",
    "    try:\n",
    "        #print(x)\n",
    "        #xpath = '/html/body/div[2]/main/div[4]/div[2]/div/div/div/div/div/div/div/div[2]/div[1]/div/div/div[{}]/div/div/div/div[2]/div/a/h2'.format(x)\n",
    "\n",
    "        xpath =  '/html/body/div[2]/main/div[4]/div[2]/div/div/div/div/div/div/div/div[2]/div[1]/div/div/div[{}]/div/div/div/div[2]/div/a/h2'.format(x)\n",
    "        #/html/body/div[2]/main/div[4]/div[2]/div/div/div/div/div/div/div/div[2]/div[2]/div/div/div[1]/div/div/div/div[2]/div/a/h2\n",
    "        #/html/body/div[2]/main/div[4]/div[2]/div/div/div/div/div/div/div/div[2]/div[2]/div/div/div[6]/div/div/div/div[2]/a\n",
    "        #print(xpath)\n",
    "        materia = driver.find_element(By.XPATH, xpath)\n",
    "        arquivo.write(materia.text +\"\\n\")\n",
    "        #print(materia.text)\n",
    "    except:\n",
    "        print()\n",
    "    finally:\n",
    "        x = x+1"
   ]
  },
  {
   "cell_type": "code",
   "execution_count": 62,
   "metadata": {},
   "outputs": [],
   "source": [
    "#driver.close()"
   ]
  }
 ],
 "metadata": {
  "kernelspec": {
   "display_name": "Python 3",
   "language": "python",
   "name": "python3"
  },
  "language_info": {
   "codemirror_mode": {
    "name": "ipython",
    "version": 3
   },
   "file_extension": ".py",
   "mimetype": "text/x-python",
   "name": "python",
   "nbconvert_exporter": "python",
   "pygments_lexer": "ipython3",
   "version": "3.10.7"
  },
  "orig_nbformat": 4
 },
 "nbformat": 4,
 "nbformat_minor": 2
}
