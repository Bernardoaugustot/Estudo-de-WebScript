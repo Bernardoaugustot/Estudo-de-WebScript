{
 "cells": [
  {
   "attachments": {},
   "cell_type": "markdown",
   "metadata": {},
   "source": [
    "# Fase 2: Top 5 noticias\n"
   ]
  },
  {
   "attachments": {},
   "cell_type": "markdown",
   "metadata": {},
   "source": [
    "Vamos abrir o G1 e trazer as primeiras 5 materias apresentadas com alguns caracteres das noticias\n",
    "\n"
   ]
  },
  {
   "cell_type": "code",
   "execution_count": 10,
   "metadata": {},
   "outputs": [],
   "source": [
    "from selenium import webdriver\n",
    "from selenium.webdriver.common.by import By"
   ]
  },
  {
   "cell_type": "code",
   "execution_count": 11,
   "metadata": {},
   "outputs": [
    {
     "name": "stderr",
     "output_type": "stream",
     "text": [
      "C:\\Users\\berna\\AppData\\Local\\Temp\\ipykernel_12360\\3895232095.py:1: DeprecationWarning: executable_path has been deprecated, please pass in a Service object\n",
      "  driver = webdriver.Chrome(executable_path= './ignore/chromedriver.exe')\n"
     ]
    }
   ],
   "source": [
    "driver = webdriver.Chrome(executable_path= './ignore/chromedriver.exe')\n",
    "# Na url edita o que sera o alvo, enquanto com o get vamos abrir o site.\n",
    "url = 'https://g1.globo.com/'\n",
    "driver.get(url)"
   ]
  },
  {
   "attachments": {},
   "cell_type": "markdown",
   "metadata": {},
   "source": [
    "• .type-materia , .gui-color-hover -MAterias\n"
   ]
  },
  {
   "cell_type": "code",
   "execution_count": 12,
   "metadata": {},
   "outputs": [
    {
     "data": {
      "text/plain": [
       "'Câmara conclui reforma tributária e vota projeto do Carf, prioridade do governo'"
      ]
     },
     "execution_count": 12,
     "metadata": {},
     "output_type": "execute_result"
    }
   ],
   "source": [
    "# Materia 1\n",
    "xpath = '//*[@id=\"glb-main-home\"]/div[2]/div/div/div/div/div[1]/div/a/ul/li[5]/div/div/h2'\n",
    "materia = driver.find_element(By.XPATH, xpath)\n",
    "materia.text\n",
    "#/html/body/div[2]/main/div[4]/div[2]/div/div/div/div/div/div/div/div[2]/div/div/div/div[1]/div/div/div/div[2]/div/h2/a"
   ]
  },
  {
   "cell_type": "code",
   "execution_count": 30,
   "metadata": {},
   "outputs": [],
   "source": [
    "# Salvar aqui os dados do dia\n",
    "arquivo = open(\"Materias do dia.txt\", 'w')"
   ]
  },
  {
   "cell_type": "code",
   "execution_count": 13,
   "metadata": {},
   "outputs": [
    {
     "data": {
      "text/plain": [
       "''"
      ]
     },
     "execution_count": 13,
     "metadata": {},
     "output_type": "execute_result"
    }
   ],
   "source": [
    "# Materia 2\n",
    "xpath = '//*[@id=\"glb-main-home\"]/div[2]/div/div/div/div/div[2]/div/a/ul/li[5]/div/div/h2'\n",
    "materia = driver.find_element(By.XPATH, xpath)\n",
    "materia.text\n"
   ]
  },
  {
   "attachments": {},
   "cell_type": "markdown",
   "metadata": {},
   "source": []
  },
  {
   "cell_type": "code",
   "execution_count": 21,
   "metadata": {},
   "outputs": [
    {
     "name": "stdout",
     "output_type": "stream",
     "text": [
      "Bastidores: Lula abre portas ao Centrão e destrava votação na CâmaraM1\n",
      "Dinheiro esquecido: R$ 7,1 bilhões ainda podem ser resgatadosM2\n",
      "Só 2 impostos, 'cashback' e cesta básica isenta: tudo sobre a reforma tributáriaM3\n",
      "VEJA COMO VOTOU CADA DEPUTADOM4\n",
      "X\n"
     ]
    }
   ],
   "source": [
    "# Materia 2\n",
    "x = 1\n",
    "'    /html/body/div[2]/main/div[4]/div[2]/div/div/div/div/div/div/div/div[2]/div[2]/div/div/div[1]/div/div/div/div[2]/div/a/h2'\n",
    "xpath = '/html/body/div[2]/main/div[4]/div[2]/div/div/div/div/div/div/div/div[2]/div[1]/div/div/div[1]/div/div/div/div[2]/div/a/h2'\n",
    "xpath = '/html/body/div[2]/main/div[4]/div[2]/div/div/div/div/div/div/div/div[2]/div[1]/div/div/div[{}]/div/div/div/div[2]/div/a/h2'.format(x)\n",
    "xpath2 = '/html/body/div[2]/main/div[4]/div[2]/div/div/div/div/div/div/div/div[2]/div[1]/div/div/div[2]/div/div/div/div[2]/div/a/h2'\n",
    "xpath3 = '/html/body/div[2]/main/div[4]/div[2]/div/div/div/div/div/div/div/div[2]/div[1]/div/div/div[3]/div/div/div/div[2]/div/a/h2'\n",
    "xpath4 = '/html/body/div[2]/main/div[4]/div[2]/div/div/div/div/div/div/div/div[2]/div[1]/div/div/div[4]/div/div/div/div[2]/div/a/h2'\n",
    "\n",
    "materia1 = driver.find_element(By.XPATH, xpath)\n",
    "materia2 = driver.find_element(By.XPATH, xpath2)\n",
    "materia3 = driver.find_element(By.XPATH, xpath3)\n",
    "materia4 = driver.find_element(By.XPATH, xpath4)\n",
    "\n",
    "print(materia1.text + \"M1\")\n",
    "print(materia2.text+ \"M2\")\n",
    "print(materia3.text+ \"M3\")\n",
    "print(materia4.text+ \"M4\")\n",
    "#print(materia5.text+ \"M5\")\n",
    "print(\"X\")\n"
   ]
  },
  {
   "cell_type": "code",
   "execution_count": 31,
   "metadata": {},
   "outputs": [
    {
     "name": "stdout",
     "output_type": "stream",
     "text": [
      "1\n",
      "\n",
      "2\n",
      "\n",
      "3\n",
      "\n",
      "4\n",
      "\n",
      "5\n",
      "\n",
      "6\n",
      "\n",
      "7\n",
      "\n",
      "8\n",
      "\n",
      "9\n",
      "\n",
      "10\n",
      "\n",
      "11\n",
      "\n",
      "12\n",
      "\n",
      "13\n",
      "\n",
      "14\n",
      "\n",
      "15\n",
      "\n",
      "16\n",
      "\n",
      "17\n",
      "\n"
     ]
    }
   ],
   "source": [
    "# Coletando as materias da coluna div[1]\n",
    "x = 1\n",
    "while x != 18:\n",
    "    try:\n",
    "        print(x)\n",
    "        #xpath = '/html/body/div[2]/main/div[4]/div[2]/div/div/div/div/div/div/div/div[2]/div[1]/div/div/div[{}]/div/div/div/div[2]/div/a/h2'.format(x)\n",
    "\n",
    "        xpath =  '/html/body/div[2]/main/div[4]/div[2]/div/div/div/div/div/div/div/div[2]/div[1]/div/div/div[{}]/div/div/div/div[2]/div/a/h2'.format(x)\n",
    "        #/html/body/div[2]/main/div[4]/div[2]/div/div/div/div/div/div/div/div[2]/div[2]/div/div/div[1]/div/div/div/div[2]/div/a/h2\n",
    "        #/html/body/div[2]/main/div[4]/div[2]/div/div/div/div/div/div/div/div[2]/div[2]/div/div/div[6]/div/div/div/div[2]/a\n",
    "        #print(xpath)\n",
    "        materia = driver.find_element(By.XPATH, xpath)\n",
    "        arquivo.write(materia.text +\"\\n\")\n",
    "    except:\n",
    "        print()\n",
    "    finally:\n",
    "        x = x+1"
   ]
  },
  {
   "cell_type": "code",
   "execution_count": 16,
   "metadata": {},
   "outputs": [
    {
     "ename": "NoSuchElementException",
     "evalue": "Message: no such element: Unable to locate element: {\"method\":\"xpath\",\"selector\":\"/html/body/div[2]/main/div[4]/div[2]/div/div/div/div/div/div/div/div[2]/div[2]/div/div/div[6]/div/div/div/div[2]/a\"}\n  (Session info: chrome=114.0.5735.199)\nStacktrace:\nBacktrace:\n\tGetHandleVerifier [0x00B26E73+48323]\n\t(No symbol) [0x00AB9661]\n\t(No symbol) [0x009C5308]\n\t(No symbol) [0x009F0B45]\n\t(No symbol) [0x009F0CDB]\n\t(No symbol) [0x00A1E3D2]\n\t(No symbol) [0x00A0A924]\n\t(No symbol) [0x00A1CAC2]\n\t(No symbol) [0x00A0A6D6]\n\t(No symbol) [0x009E847C]\n\t(No symbol) [0x009E957D]\n\tGetHandleVerifier [0x00D8FD5D+2575277]\n\tGetHandleVerifier [0x00DCF86E+2836158]\n\tGetHandleVerifier [0x00DC96DC+2811180]\n\tGetHandleVerifier [0x00BB41B0+626688]\n\t(No symbol) [0x00AC314C]\n\t(No symbol) [0x00ABF4B8]\n\t(No symbol) [0x00ABF59B]\n\t(No symbol) [0x00AB21B7]\n\tBaseThreadInitThunk [0x75DA00C9+25]\n\tRtlGetAppContainerNamedObjectPath [0x77AF7B4E+286]\n\tRtlGetAppContainerNamedObjectPath [0x77AF7B1E+238]\n",
     "output_type": "error",
     "traceback": [
      "\u001b[1;31m---------------------------------------------------------------------------\u001b[0m",
      "\u001b[1;31mNoSuchElementException\u001b[0m                    Traceback (most recent call last)",
      "Cell \u001b[1;32mIn[16], line 3\u001b[0m\n\u001b[0;32m      1\u001b[0m xpath \u001b[39m=\u001b[39m  \u001b[39m'\u001b[39m\u001b[39m/html/body/div[2]/main/div[4]/div[2]/div/div/div/div/div/div/div/div[2]/div[2]/div/div/div[6]/div/div/div/div[2]/a\u001b[39m\u001b[39m'\u001b[39m\n\u001b[0;32m      2\u001b[0m \u001b[39m#/html/body/div[2]/main/div[4]/div[2]/div/div/div/div/div/div/div/div[2]/div[2]/div/div/div[6]/div/div/div/div[2]/a\u001b[39;00m\n\u001b[1;32m----> 3\u001b[0m materia1 \u001b[39m=\u001b[39m driver\u001b[39m.\u001b[39;49mfind_element(By\u001b[39m.\u001b[39;49mXPATH, xpath)\n\u001b[0;32m      4\u001b[0m \u001b[39mprint\u001b[39m(materia1)\n",
      "File \u001b[1;32mc:\\Users\\berna\\AppData\\Local\\Programs\\Python\\Python310\\lib\\site-packages\\selenium\\webdriver\\remote\\webdriver.py:855\u001b[0m, in \u001b[0;36mWebDriver.find_element\u001b[1;34m(self, by, value)\u001b[0m\n\u001b[0;32m    852\u001b[0m     by \u001b[39m=\u001b[39m By\u001b[39m.\u001b[39mCSS_SELECTOR\n\u001b[0;32m    853\u001b[0m     value \u001b[39m=\u001b[39m \u001b[39m'\u001b[39m\u001b[39m[name=\u001b[39m\u001b[39m\"\u001b[39m\u001b[39m%s\u001b[39;00m\u001b[39m\"\u001b[39m\u001b[39m]\u001b[39m\u001b[39m'\u001b[39m \u001b[39m%\u001b[39m value\n\u001b[1;32m--> 855\u001b[0m \u001b[39mreturn\u001b[39;00m \u001b[39mself\u001b[39;49m\u001b[39m.\u001b[39;49mexecute(Command\u001b[39m.\u001b[39;49mFIND_ELEMENT, {\n\u001b[0;32m    856\u001b[0m     \u001b[39m'\u001b[39;49m\u001b[39musing\u001b[39;49m\u001b[39m'\u001b[39;49m: by,\n\u001b[0;32m    857\u001b[0m     \u001b[39m'\u001b[39;49m\u001b[39mvalue\u001b[39;49m\u001b[39m'\u001b[39;49m: value})[\u001b[39m'\u001b[39m\u001b[39mvalue\u001b[39m\u001b[39m'\u001b[39m]\n",
      "File \u001b[1;32mc:\\Users\\berna\\AppData\\Local\\Programs\\Python\\Python310\\lib\\site-packages\\selenium\\webdriver\\remote\\webdriver.py:428\u001b[0m, in \u001b[0;36mWebDriver.execute\u001b[1;34m(self, driver_command, params)\u001b[0m\n\u001b[0;32m    426\u001b[0m response \u001b[39m=\u001b[39m \u001b[39mself\u001b[39m\u001b[39m.\u001b[39mcommand_executor\u001b[39m.\u001b[39mexecute(driver_command, params)\n\u001b[0;32m    427\u001b[0m \u001b[39mif\u001b[39;00m response:\n\u001b[1;32m--> 428\u001b[0m     \u001b[39mself\u001b[39;49m\u001b[39m.\u001b[39;49merror_handler\u001b[39m.\u001b[39;49mcheck_response(response)\n\u001b[0;32m    429\u001b[0m     response[\u001b[39m'\u001b[39m\u001b[39mvalue\u001b[39m\u001b[39m'\u001b[39m] \u001b[39m=\u001b[39m \u001b[39mself\u001b[39m\u001b[39m.\u001b[39m_unwrap_value(\n\u001b[0;32m    430\u001b[0m         response\u001b[39m.\u001b[39mget(\u001b[39m'\u001b[39m\u001b[39mvalue\u001b[39m\u001b[39m'\u001b[39m, \u001b[39mNone\u001b[39;00m))\n\u001b[0;32m    431\u001b[0m     \u001b[39mreturn\u001b[39;00m response\n",
      "File \u001b[1;32mc:\\Users\\berna\\AppData\\Local\\Programs\\Python\\Python310\\lib\\site-packages\\selenium\\webdriver\\remote\\errorhandler.py:243\u001b[0m, in \u001b[0;36mErrorHandler.check_response\u001b[1;34m(self, response)\u001b[0m\n\u001b[0;32m    241\u001b[0m         alert_text \u001b[39m=\u001b[39m value[\u001b[39m'\u001b[39m\u001b[39malert\u001b[39m\u001b[39m'\u001b[39m]\u001b[39m.\u001b[39mget(\u001b[39m'\u001b[39m\u001b[39mtext\u001b[39m\u001b[39m'\u001b[39m)\n\u001b[0;32m    242\u001b[0m     \u001b[39mraise\u001b[39;00m exception_class(message, screen, stacktrace, alert_text)  \u001b[39m# type: ignore[call-arg]  # mypy is not smart enough here\u001b[39;00m\n\u001b[1;32m--> 243\u001b[0m \u001b[39mraise\u001b[39;00m exception_class(message, screen, stacktrace)\n",
      "\u001b[1;31mNoSuchElementException\u001b[0m: Message: no such element: Unable to locate element: {\"method\":\"xpath\",\"selector\":\"/html/body/div[2]/main/div[4]/div[2]/div/div/div/div/div/div/div/div[2]/div[2]/div/div/div[6]/div/div/div/div[2]/a\"}\n  (Session info: chrome=114.0.5735.199)\nStacktrace:\nBacktrace:\n\tGetHandleVerifier [0x00B26E73+48323]\n\t(No symbol) [0x00AB9661]\n\t(No symbol) [0x009C5308]\n\t(No symbol) [0x009F0B45]\n\t(No symbol) [0x009F0CDB]\n\t(No symbol) [0x00A1E3D2]\n\t(No symbol) [0x00A0A924]\n\t(No symbol) [0x00A1CAC2]\n\t(No symbol) [0x00A0A6D6]\n\t(No symbol) [0x009E847C]\n\t(No symbol) [0x009E957D]\n\tGetHandleVerifier [0x00D8FD5D+2575277]\n\tGetHandleVerifier [0x00DCF86E+2836158]\n\tGetHandleVerifier [0x00DC96DC+2811180]\n\tGetHandleVerifier [0x00BB41B0+626688]\n\t(No symbol) [0x00AC314C]\n\t(No symbol) [0x00ABF4B8]\n\t(No symbol) [0x00ABF59B]\n\t(No symbol) [0x00AB21B7]\n\tBaseThreadInitThunk [0x75DA00C9+25]\n\tRtlGetAppContainerNamedObjectPath [0x77AF7B4E+286]\n\tRtlGetAppContainerNamedObjectPath [0x77AF7B1E+238]\n"
     ]
    }
   ],
   "source": []
  }
 ],
 "metadata": {
  "kernelspec": {
   "display_name": "Python 3",
   "language": "python",
   "name": "python3"
  },
  "language_info": {
   "codemirror_mode": {
    "name": "ipython",
    "version": 3
   },
   "file_extension": ".py",
   "mimetype": "text/x-python",
   "name": "python",
   "nbconvert_exporter": "python",
   "pygments_lexer": "ipython3",
   "version": "3.10.7"
  },
  "orig_nbformat": 4
 },
 "nbformat": 4,
 "nbformat_minor": 2
}
